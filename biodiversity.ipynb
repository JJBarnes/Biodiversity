{
 "cells": [
  {
   "cell_type": "markdown",
   "metadata": {},
   "source": [
    "# Bioiversity in National Parks Project"
   ]
  },
  {
   "cell_type": "markdown",
   "metadata": {},
   "source": [
    "## Scope:\n",
    "- We want to look at data for the wildlife that is found in the US national parks.\n",
    "- What is the proportion of different species in each park?\n",
    "- What are the proportions of different classes are in each park (mammals, birds, etc.)?\n",
    "- What populations are endangered (or otherwise have conservation status)? How many are there?\n",
    "- Which parks have the most unique species?\n",
    "- Which parks have the highest populations?"
   ]
  },
  {
   "cell_type": "code",
   "execution_count": 89,
   "metadata": {},
   "outputs": [],
   "source": [
    "#Import Modules\n",
    "import numpy as np\n",
    "import pandas as pd\n",
    "import matplotlib.pyplot as plt\n",
    "import seaborn as sns"
   ]
  },
  {
   "cell_type": "code",
   "execution_count": 90,
   "metadata": {},
   "outputs": [],
   "source": [
    "#Load in data\n",
    "observations = pd.read_csv(\"observations.csv\")\n",
    "species = pd.read_csv(\"species_info.csv\")"
   ]
  },
  {
   "cell_type": "markdown",
   "metadata": {},
   "source": [
    "1\\) Descriptive Analysis"
   ]
  },
  {
   "cell_type": "code",
   "execution_count": 91,
   "metadata": {},
   "outputs": [
    {
     "name": "stdout",
     "output_type": "stream",
     "text": [
      "['scientific_name', 'park_name', 'observations']\n",
      "['category', 'scientific_name', 'common_names', 'conservation_status']\n"
     ]
    }
   ],
   "source": [
    "print(observations.columns.to_list())\n",
    "print(species.columns.to_list())"
   ]
  },
  {
   "cell_type": "code",
   "execution_count": 92,
   "metadata": {},
   "outputs": [
    {
     "data": {
      "text/html": [
       "<div>\n",
       "<style scoped>\n",
       "    .dataframe tbody tr th:only-of-type {\n",
       "        vertical-align: middle;\n",
       "    }\n",
       "\n",
       "    .dataframe tbody tr th {\n",
       "        vertical-align: top;\n",
       "    }\n",
       "\n",
       "    .dataframe thead th {\n",
       "        text-align: right;\n",
       "    }\n",
       "</style>\n",
       "<table border=\"1\" class=\"dataframe\">\n",
       "  <thead>\n",
       "    <tr style=\"text-align: right;\">\n",
       "      <th></th>\n",
       "      <th>scientific_name</th>\n",
       "      <th>park_name</th>\n",
       "      <th>observations</th>\n",
       "    </tr>\n",
       "  </thead>\n",
       "  <tbody>\n",
       "    <tr>\n",
       "      <th>count</th>\n",
       "      <td>23296</td>\n",
       "      <td>23296</td>\n",
       "      <td>23296.000000</td>\n",
       "    </tr>\n",
       "    <tr>\n",
       "      <th>unique</th>\n",
       "      <td>5541</td>\n",
       "      <td>4</td>\n",
       "      <td>NaN</td>\n",
       "    </tr>\n",
       "    <tr>\n",
       "      <th>top</th>\n",
       "      <td>Puma concolor</td>\n",
       "      <td>Bryce National Park</td>\n",
       "      <td>NaN</td>\n",
       "    </tr>\n",
       "    <tr>\n",
       "      <th>freq</th>\n",
       "      <td>12</td>\n",
       "      <td>5824</td>\n",
       "      <td>NaN</td>\n",
       "    </tr>\n",
       "    <tr>\n",
       "      <th>mean</th>\n",
       "      <td>NaN</td>\n",
       "      <td>NaN</td>\n",
       "      <td>142.287904</td>\n",
       "    </tr>\n",
       "    <tr>\n",
       "      <th>std</th>\n",
       "      <td>NaN</td>\n",
       "      <td>NaN</td>\n",
       "      <td>69.890532</td>\n",
       "    </tr>\n",
       "    <tr>\n",
       "      <th>min</th>\n",
       "      <td>NaN</td>\n",
       "      <td>NaN</td>\n",
       "      <td>9.000000</td>\n",
       "    </tr>\n",
       "    <tr>\n",
       "      <th>25%</th>\n",
       "      <td>NaN</td>\n",
       "      <td>NaN</td>\n",
       "      <td>86.000000</td>\n",
       "    </tr>\n",
       "    <tr>\n",
       "      <th>50%</th>\n",
       "      <td>NaN</td>\n",
       "      <td>NaN</td>\n",
       "      <td>124.000000</td>\n",
       "    </tr>\n",
       "    <tr>\n",
       "      <th>75%</th>\n",
       "      <td>NaN</td>\n",
       "      <td>NaN</td>\n",
       "      <td>195.000000</td>\n",
       "    </tr>\n",
       "    <tr>\n",
       "      <th>max</th>\n",
       "      <td>NaN</td>\n",
       "      <td>NaN</td>\n",
       "      <td>321.000000</td>\n",
       "    </tr>\n",
       "  </tbody>\n",
       "</table>\n",
       "</div>"
      ],
      "text/plain": [
       "       scientific_name            park_name  observations\n",
       "count            23296                23296  23296.000000\n",
       "unique            5541                    4           NaN\n",
       "top      Puma concolor  Bryce National Park           NaN\n",
       "freq                12                 5824           NaN\n",
       "mean               NaN                  NaN    142.287904\n",
       "std                NaN                  NaN     69.890532\n",
       "min                NaN                  NaN      9.000000\n",
       "25%                NaN                  NaN     86.000000\n",
       "50%                NaN                  NaN    124.000000\n",
       "75%                NaN                  NaN    195.000000\n",
       "max                NaN                  NaN    321.000000"
      ]
     },
     "execution_count": 92,
     "metadata": {},
     "output_type": "execute_result"
    }
   ],
   "source": [
    "observations.describe(include='all')"
   ]
  },
  {
   "cell_type": "code",
   "execution_count": 93,
   "metadata": {},
   "outputs": [
    {
     "name": "stdout",
     "output_type": "stream",
     "text": [
      "<class 'pandas.core.frame.DataFrame'>\n",
      "RangeIndex: 23296 entries, 0 to 23295\n",
      "Data columns (total 3 columns):\n",
      " #   Column           Non-Null Count  Dtype \n",
      "---  ------           --------------  ----- \n",
      " 0   scientific_name  23296 non-null  object\n",
      " 1   park_name        23296 non-null  object\n",
      " 2   observations     23296 non-null  int64 \n",
      "dtypes: int64(1), object(2)\n",
      "memory usage: 546.1+ KB\n"
     ]
    }
   ],
   "source": [
    "observations.info()"
   ]
  },
  {
   "cell_type": "markdown",
   "metadata": {},
   "source": [
    "- There are no empty values in observations\n",
    "- The data types are as expected, an integer for observations and objects for the nominal variables.\n",
    "- Mean of 142.28, median of 124, std of 68.9, IQR of 109. Distribution of observations may be slightly skewed."
   ]
  },
  {
   "cell_type": "code",
   "execution_count": 94,
   "metadata": {},
   "outputs": [
    {
     "data": {
      "text/html": [
       "<div>\n",
       "<style scoped>\n",
       "    .dataframe tbody tr th:only-of-type {\n",
       "        vertical-align: middle;\n",
       "    }\n",
       "\n",
       "    .dataframe tbody tr th {\n",
       "        vertical-align: top;\n",
       "    }\n",
       "\n",
       "    .dataframe thead th {\n",
       "        text-align: right;\n",
       "    }\n",
       "</style>\n",
       "<table border=\"1\" class=\"dataframe\">\n",
       "  <thead>\n",
       "    <tr style=\"text-align: right;\">\n",
       "      <th></th>\n",
       "      <th>category</th>\n",
       "      <th>scientific_name</th>\n",
       "      <th>common_names</th>\n",
       "      <th>conservation_status</th>\n",
       "    </tr>\n",
       "  </thead>\n",
       "  <tbody>\n",
       "    <tr>\n",
       "      <th>count</th>\n",
       "      <td>5824</td>\n",
       "      <td>5824</td>\n",
       "      <td>5824</td>\n",
       "      <td>191</td>\n",
       "    </tr>\n",
       "    <tr>\n",
       "      <th>unique</th>\n",
       "      <td>7</td>\n",
       "      <td>5541</td>\n",
       "      <td>5504</td>\n",
       "      <td>4</td>\n",
       "    </tr>\n",
       "    <tr>\n",
       "      <th>top</th>\n",
       "      <td>Vascular Plant</td>\n",
       "      <td>Hypochaeris radicata</td>\n",
       "      <td>Dicranum Moss</td>\n",
       "      <td>Species of Concern</td>\n",
       "    </tr>\n",
       "    <tr>\n",
       "      <th>freq</th>\n",
       "      <td>4470</td>\n",
       "      <td>3</td>\n",
       "      <td>7</td>\n",
       "      <td>161</td>\n",
       "    </tr>\n",
       "  </tbody>\n",
       "</table>\n",
       "</div>"
      ],
      "text/plain": [
       "              category       scientific_name   common_names  \\\n",
       "count             5824                  5824           5824   \n",
       "unique               7                  5541           5504   \n",
       "top     Vascular Plant  Hypochaeris radicata  Dicranum Moss   \n",
       "freq              4470                     3              7   \n",
       "\n",
       "       conservation_status  \n",
       "count                  191  \n",
       "unique                   4  \n",
       "top     Species of Concern  \n",
       "freq                   161  "
      ]
     },
     "execution_count": 94,
     "metadata": {},
     "output_type": "execute_result"
    }
   ],
   "source": [
    "species.describe(include='all')"
   ]
  },
  {
   "cell_type": "code",
   "execution_count": 95,
   "metadata": {},
   "outputs": [
    {
     "name": "stdout",
     "output_type": "stream",
     "text": [
      "<class 'pandas.core.frame.DataFrame'>\n",
      "RangeIndex: 5824 entries, 0 to 5823\n",
      "Data columns (total 4 columns):\n",
      " #   Column               Non-Null Count  Dtype \n",
      "---  ------               --------------  ----- \n",
      " 0   category             5824 non-null   object\n",
      " 1   scientific_name      5824 non-null   object\n",
      " 2   common_names         5824 non-null   object\n",
      " 3   conservation_status  191 non-null    object\n",
      "dtypes: object(4)\n",
      "memory usage: 182.1+ KB\n"
     ]
    }
   ],
   "source": [
    "species.info()"
   ]
  },
  {
   "cell_type": "markdown",
   "metadata": {},
   "source": [
    "- All data types are as expected, as each variable is a nominal category.\n",
    "- No missing data inside the first 3 columns, but many in conservation_status\n",
    "- Scientific name repeated up to 3 times - potential duplicates?"
   ]
  },
  {
   "cell_type": "code",
   "execution_count": 96,
   "metadata": {},
   "outputs": [
    {
     "name": "stdout",
     "output_type": "stream",
     "text": [
      "False    5824\n",
      "dtype: int64\n"
     ]
    }
   ],
   "source": [
    "duplicates = species.duplicated()\n",
    "print(duplicates.value_counts())"
   ]
  },
  {
   "cell_type": "markdown",
   "metadata": {},
   "source": [
    "No duplicates?"
   ]
  },
  {
   "cell_type": "code",
   "execution_count": 97,
   "metadata": {},
   "outputs": [
    {
     "name": "stdout",
     "output_type": "stream",
     "text": [
      "Procyon lotor                 2\n",
      "Streptopelia decaocto         2\n",
      "Castor canadensis             2\n",
      "Holcus lanatus                2\n",
      "Myotis lucifugus              2\n",
      "                             ..\n",
      "Callitriche heterophylla      1\n",
      "Silene latifolia ssp. alba    1\n",
      "Portulaca oleracea            1\n",
      "Juncus brevicaudatus          1\n",
      "Silene vulgaris               1\n",
      "Name: scientific_name, Length: 274, dtype: int64\n"
     ]
    }
   ],
   "source": [
    "print(species.scientific_name[species.scientific_name.duplicated()].value_counts())"
   ]
  },
  {
   "cell_type": "code",
   "execution_count": 98,
   "metadata": {},
   "outputs": [
    {
     "name": "stdout",
     "output_type": "stream",
     "text": [
      "     category scientific_name                               common_names  \\\n",
      "26     Mammal   Procyon lotor                    Common Raccoon, Raccoon   \n",
      "3030   Mammal   Procyon lotor  Common Raccoon, Northern Raccoon, Raccoon   \n",
      "4459   Mammal   Procyon lotor                                    Raccoon   \n",
      "\n",
      "     conservation_status  \n",
      "26                   NaN  \n",
      "3030                 NaN  \n",
      "4459                 NaN  \n"
     ]
    }
   ],
   "source": [
    "print(species[species.scientific_name==\"Procyon lotor\"])"
   ]
  },
  {
   "cell_type": "code",
   "execution_count": 99,
   "metadata": {},
   "outputs": [
    {
     "name": "stdout",
     "output_type": "stream",
     "text": [
      "     category    scientific_name             common_names conservation_status\n",
      "49     Mammal  Castor canadensis  American Beaver, Beaver                 NaN\n",
      "3050   Mammal  Castor canadensis          American Beaver                 NaN\n",
      "4475   Mammal  Castor canadensis                   Beaver                 NaN\n"
     ]
    }
   ],
   "source": [
    "print(species[species.scientific_name==\"Castor canadensis\"])"
   ]
  },
  {
   "cell_type": "markdown",
   "metadata": {},
   "source": [
    "Duplicates are presumably from different regions having different names for their animals. In order to prevent duplicates, when merging, we will drop duplicates of the scientific names."
   ]
  },
  {
   "cell_type": "code",
   "execution_count": 100,
   "metadata": {},
   "outputs": [
    {
     "name": "stdout",
     "output_type": "stream",
     "text": [
      "Species of Concern    161\n",
      "Endangered             16\n",
      "Threatened             10\n",
      "In Recovery             4\n",
      "Name: conservation_status, dtype: int64\n"
     ]
    }
   ],
   "source": [
    "print(species.conservation_status.value_counts())"
   ]
  },
  {
   "cell_type": "markdown",
   "metadata": {},
   "source": [
    "- Doesn't follow the IUCN list for conservation, or the NatureServe conservation system, so there is no direct comparison.\n",
    "- Hypothesis - it may be for species of no concern"
   ]
  },
  {
   "cell_type": "code",
   "execution_count": 101,
   "metadata": {},
   "outputs": [],
   "source": [
    "species_observation = pd.merge(observations, species.drop_duplicates(subset=\"scientific_name\"), on = 'scientific_name')"
   ]
  },
  {
   "cell_type": "code",
   "execution_count": 102,
   "metadata": {},
   "outputs": [
    {
     "data": {
      "text/html": [
       "<div>\n",
       "<style scoped>\n",
       "    .dataframe tbody tr th:only-of-type {\n",
       "        vertical-align: middle;\n",
       "    }\n",
       "\n",
       "    .dataframe tbody tr th {\n",
       "        vertical-align: top;\n",
       "    }\n",
       "\n",
       "    .dataframe thead th {\n",
       "        text-align: right;\n",
       "    }\n",
       "</style>\n",
       "<table border=\"1\" class=\"dataframe\">\n",
       "  <thead>\n",
       "    <tr style=\"text-align: right;\">\n",
       "      <th></th>\n",
       "      <th>scientific_name</th>\n",
       "      <th>park_name</th>\n",
       "      <th>observations</th>\n",
       "      <th>category</th>\n",
       "      <th>common_names</th>\n",
       "      <th>conservation_status</th>\n",
       "    </tr>\n",
       "  </thead>\n",
       "  <tbody>\n",
       "    <tr>\n",
       "      <th>count</th>\n",
       "      <td>23296</td>\n",
       "      <td>23296</td>\n",
       "      <td>23296.000000</td>\n",
       "      <td>23296</td>\n",
       "      <td>23296</td>\n",
       "      <td>760</td>\n",
       "    </tr>\n",
       "    <tr>\n",
       "      <th>unique</th>\n",
       "      <td>5541</td>\n",
       "      <td>4</td>\n",
       "      <td>NaN</td>\n",
       "      <td>7</td>\n",
       "      <td>5229</td>\n",
       "      <td>4</td>\n",
       "    </tr>\n",
       "    <tr>\n",
       "      <th>top</th>\n",
       "      <td>Puma concolor</td>\n",
       "      <td>Bryce National Park</td>\n",
       "      <td>NaN</td>\n",
       "      <td>Vascular Plant</td>\n",
       "      <td>Dicranum Moss</td>\n",
       "      <td>Species of Concern</td>\n",
       "    </tr>\n",
       "    <tr>\n",
       "      <th>freq</th>\n",
       "      <td>12</td>\n",
       "      <td>5824</td>\n",
       "      <td>NaN</td>\n",
       "      <td>17880</td>\n",
       "      <td>28</td>\n",
       "      <td>644</td>\n",
       "    </tr>\n",
       "    <tr>\n",
       "      <th>mean</th>\n",
       "      <td>NaN</td>\n",
       "      <td>NaN</td>\n",
       "      <td>142.287904</td>\n",
       "      <td>NaN</td>\n",
       "      <td>NaN</td>\n",
       "      <td>NaN</td>\n",
       "    </tr>\n",
       "    <tr>\n",
       "      <th>std</th>\n",
       "      <td>NaN</td>\n",
       "      <td>NaN</td>\n",
       "      <td>69.890532</td>\n",
       "      <td>NaN</td>\n",
       "      <td>NaN</td>\n",
       "      <td>NaN</td>\n",
       "    </tr>\n",
       "    <tr>\n",
       "      <th>min</th>\n",
       "      <td>NaN</td>\n",
       "      <td>NaN</td>\n",
       "      <td>9.000000</td>\n",
       "      <td>NaN</td>\n",
       "      <td>NaN</td>\n",
       "      <td>NaN</td>\n",
       "    </tr>\n",
       "    <tr>\n",
       "      <th>25%</th>\n",
       "      <td>NaN</td>\n",
       "      <td>NaN</td>\n",
       "      <td>86.000000</td>\n",
       "      <td>NaN</td>\n",
       "      <td>NaN</td>\n",
       "      <td>NaN</td>\n",
       "    </tr>\n",
       "    <tr>\n",
       "      <th>50%</th>\n",
       "      <td>NaN</td>\n",
       "      <td>NaN</td>\n",
       "      <td>124.000000</td>\n",
       "      <td>NaN</td>\n",
       "      <td>NaN</td>\n",
       "      <td>NaN</td>\n",
       "    </tr>\n",
       "    <tr>\n",
       "      <th>75%</th>\n",
       "      <td>NaN</td>\n",
       "      <td>NaN</td>\n",
       "      <td>195.000000</td>\n",
       "      <td>NaN</td>\n",
       "      <td>NaN</td>\n",
       "      <td>NaN</td>\n",
       "    </tr>\n",
       "    <tr>\n",
       "      <th>max</th>\n",
       "      <td>NaN</td>\n",
       "      <td>NaN</td>\n",
       "      <td>321.000000</td>\n",
       "      <td>NaN</td>\n",
       "      <td>NaN</td>\n",
       "      <td>NaN</td>\n",
       "    </tr>\n",
       "  </tbody>\n",
       "</table>\n",
       "</div>"
      ],
      "text/plain": [
       "       scientific_name            park_name  observations        category  \\\n",
       "count            23296                23296  23296.000000           23296   \n",
       "unique            5541                    4           NaN               7   \n",
       "top      Puma concolor  Bryce National Park           NaN  Vascular Plant   \n",
       "freq                12                 5824           NaN           17880   \n",
       "mean               NaN                  NaN    142.287904             NaN   \n",
       "std                NaN                  NaN     69.890532             NaN   \n",
       "min                NaN                  NaN      9.000000             NaN   \n",
       "25%                NaN                  NaN     86.000000             NaN   \n",
       "50%                NaN                  NaN    124.000000             NaN   \n",
       "75%                NaN                  NaN    195.000000             NaN   \n",
       "max                NaN                  NaN    321.000000             NaN   \n",
       "\n",
       "         common_names conservation_status  \n",
       "count           23296                 760  \n",
       "unique           5229                   4  \n",
       "top     Dicranum Moss  Species of Concern  \n",
       "freq               28                 644  \n",
       "mean              NaN                 NaN  \n",
       "std               NaN                 NaN  \n",
       "min               NaN                 NaN  \n",
       "25%               NaN                 NaN  \n",
       "50%               NaN                 NaN  \n",
       "75%               NaN                 NaN  \n",
       "max               NaN                 NaN  "
      ]
     },
     "execution_count": 102,
     "metadata": {},
     "output_type": "execute_result"
    }
   ],
   "source": [
    "species_observation.describe(include='all')"
   ]
  },
  {
   "cell_type": "code",
   "execution_count": 103,
   "metadata": {},
   "outputs": [
    {
     "name": "stdout",
     "output_type": "stream",
     "text": [
      "<class 'pandas.core.frame.DataFrame'>\n",
      "Int64Index: 23296 entries, 0 to 23295\n",
      "Data columns (total 6 columns):\n",
      " #   Column               Non-Null Count  Dtype \n",
      "---  ------               --------------  ----- \n",
      " 0   scientific_name      23296 non-null  object\n",
      " 1   park_name            23296 non-null  object\n",
      " 2   observations         23296 non-null  int64 \n",
      " 3   category             23296 non-null  object\n",
      " 4   common_names         23296 non-null  object\n",
      " 5   conservation_status  760 non-null    object\n",
      "dtypes: int64(1), object(5)\n",
      "memory usage: 1.2+ MB\n"
     ]
    }
   ],
   "source": [
    "species_observation.info()"
   ]
  },
  {
   "cell_type": "code",
   "execution_count": 104,
   "metadata": {},
   "outputs": [
    {
     "name": "stdout",
     "output_type": "stream",
     "text": [
      "  category                scientific_name  \\\n",
      "0   Mammal  Clethrionomys gapperi gapperi   \n",
      "1   Mammal                      Bos bison   \n",
      "2   Mammal                     Bos taurus   \n",
      "3   Mammal                     Ovis aries   \n",
      "4   Mammal                 Cervus elaphus   \n",
      "\n",
      "                                        common_names conservation_status  \n",
      "0                           Gapper's Red-Backed Vole                 NaN  \n",
      "1                              American Bison, Bison                 NaN  \n",
      "2  Aurochs, Aurochs, Domestic Cattle (Feral), Dom...                 NaN  \n",
      "3  Domestic Sheep, Mouflon, Red Sheep, Sheep (Feral)                 NaN  \n",
      "4                                      Wapiti Or Elk                 NaN  \n"
     ]
    }
   ],
   "source": [
    "print(species.head())"
   ]
  },
  {
   "cell_type": "code",
   "execution_count": 105,
   "metadata": {},
   "outputs": [
    {
     "name": "stdout",
     "output_type": "stream",
     "text": [
      "            scientific_name                            park_name  observations\n",
      "0        Vicia benghalensis  Great Smoky Mountains National Park            68\n",
      "1            Neovison vison  Great Smoky Mountains National Park            77\n",
      "2         Prunus subcordata               Yosemite National Park           138\n",
      "3      Abutilon theophrasti                  Bryce National Park            84\n",
      "4  Githopsis specularioides  Great Smoky Mountains National Park            85\n"
     ]
    }
   ],
   "source": [
    "print(observations.head())"
   ]
  },
  {
   "cell_type": "code",
   "execution_count": 106,
   "metadata": {},
   "outputs": [
    {
     "name": "stdout",
     "output_type": "stream",
     "text": [
      "      scientific_name                            park_name  observations  \\\n",
      "0  Vicia benghalensis  Great Smoky Mountains National Park            68   \n",
      "1  Vicia benghalensis               Yosemite National Park           148   \n",
      "2  Vicia benghalensis            Yellowstone National Park           247   \n",
      "3  Vicia benghalensis                  Bryce National Park           104   \n",
      "4      Neovison vison  Great Smoky Mountains National Park            77   \n",
      "\n",
      "         category                        common_names conservation_status  \n",
      "0  Vascular Plant  Purple Vetch, Reddish Tufted Vetch                 NaN  \n",
      "1  Vascular Plant  Purple Vetch, Reddish Tufted Vetch                 NaN  \n",
      "2  Vascular Plant  Purple Vetch, Reddish Tufted Vetch                 NaN  \n",
      "3  Vascular Plant  Purple Vetch, Reddish Tufted Vetch                 NaN  \n",
      "4          Mammal                       American Mink                 NaN  \n"
     ]
    }
   ],
   "source": [
    "print(species_observation.head())"
   ]
  },
  {
   "cell_type": "code",
   "execution_count": 107,
   "metadata": {},
   "outputs": [],
   "source": [
    "species_observation.fillna(\"Missing Values\", inplace  = True)"
   ]
  },
  {
   "cell_type": "code",
   "execution_count": 108,
   "metadata": {},
   "outputs": [
    {
     "name": "stdout",
     "output_type": "stream",
     "text": [
      "128.22826086956522\n",
      "41.14705882352941\n",
      "70.16666666666667\n",
      "116.0\n",
      "143.1240681576145\n"
     ]
    }
   ],
   "source": [
    "print(species_observation.observations[species_observation.conservation_status == \"Species of Concern\"].mean())\n",
    "print(species_observation.observations[species_observation.conservation_status == \"Endangered\"].mean())\n",
    "print(species_observation.observations[species_observation.conservation_status == \"Threatened\"].mean())\n",
    "print(species_observation.observations[species_observation.conservation_status == \"In Recovery\"].mean())\n",
    "print(species_observation.observations[species_observation.conservation_status == \"Missing Values\"].mean())"
   ]
  },
  {
   "cell_type": "code",
   "execution_count": 112,
   "metadata": {},
   "outputs": [
    {
     "data": {
      "image/png": "[encoded data removed]",
      "text/plain": [
       "<Figure size 576x576 with 1 Axes>"
      ]
     },
     "metadata": {
      "needs_background": "light"
     },
     "output_type": "display_data"
    }
   ],
   "source": [
    "fig, ax = plt.subplots(figsize = (8,8))\n",
    "sns.barplot(data = species_observation, x = \"conservation_status\", y = \"observations\")\n",
    "ax.set(ylabel = \"Mean Observations\", xlabel = \"Conservation Status\")\n",
    "plt.show()"
   ]
  },
  {
   "cell_type": "code",
   "execution_count": 110,
   "metadata": {},
   "outputs": [
    {
     "name": "stdout",
     "output_type": "stream",
     "text": [
      "82579\n",
      "2798\n",
      "2526\n",
      "1392\n",
      "3225444\n"
     ]
    }
   ],
   "source": [
    "print(species_observation.observations[species_observation.conservation_status == \"Species of Concern\"].sum())\n",
    "print(species_observation.observations[species_observation.conservation_status == \"Endangered\"].sum())\n",
    "print(species_observation.observations[species_observation.conservation_status == \"Threatened\"].sum())\n",
    "print(species_observation.observations[species_observation.conservation_status == \"In Recovery\"].sum())\n",
    "print(species_observation.observations[species_observation.conservation_status == \"Missing Values\"].sum())"
   ]
  },
  {
   "cell_type": "code",
   "execution_count": 133,
   "metadata": {},
   "outputs": [],
   "source": [
    "Concern = (species_observation.observations[species_observation.conservation_status == \"Species of Concern\"].sum())\n",
    "Endangered = (species_observation.observations[species_observation.conservation_status == \"Endangered\"].sum())\n",
    "Threatened = (species_observation.observations[species_observation.conservation_status == \"Threatened\"].sum())\n",
    "Recovering = (species_observation.observations[species_observation.conservation_status == \"In Recovery\"].sum())\n",
    "Missing = (species_observation.observations[species_observation.conservation_status == \"Missing Values\"].sum())\n",
    "numbers = [Concern, Endangered, Threatened, Recovering, Missing]"
   ]
  },
  {
   "cell_type": "code",
   "execution_count": 126,
   "metadata": {},
   "outputs": [
    {
     "name": "stdout",
     "output_type": "stream",
     "text": [
      "         0\n",
      "0    82579\n",
      "1     2798\n",
      "2     2526\n",
      "3     1392\n",
      "4  3225444\n"
     ]
    }
   ],
   "source": [
    "print(numbers)"
   ]
  },
  {
   "cell_type": "code",
   "execution_count": 138,
   "metadata": {},
   "outputs": [
    {
     "data": {
      "image/png": "[encoded data removed]",
      "text/plain": [
       "<Figure size 576x576 with 1 Axes>"
      ]
     },
     "metadata": {
      "needs_background": "light"
     },
     "output_type": "display_data"
    }
   ],
   "source": [
    "fig, ax = plt.subplots(figsize = (8,8))\n",
    "sns.barplot(x = [0,1,2,3,4], y = numbers)\n",
    "ax.set(ylabel = \"Total Observations\", xlabel = \"Conservation Status\")\n",
    "ax.set_xticklabels([\"Concern\", \"Endangered\", \"Threatened\", \"Recovering\", \"Missing Data\"])\n",
    "plt.show()"
   ]
  },
  {
   "cell_type": "markdown",
   "metadata": {},
   "source": [
    "The missing data has both a higher average number of counts, and a much higher total number of counts. This suggests that, as hypothesized, the missing data represents the animals with the least concern over conservation"
   ]
  },
  {
   "cell_type": "code",
   "execution_count": 141,
   "metadata": {},
   "outputs": [],
   "source": [
    "species_observation = species_observation.replace(\"Missing Values\", \"Least Concern\")"
   ]
  },
  {
   "cell_type": "code",
   "execution_count": 143,
   "metadata": {},
   "outputs": [
    {
     "name": "stdout",
     "output_type": "stream",
     "text": [
      "Index(['scientific_name', 'park_name', 'observations', 'category',\n",
      "       'common_names', 'conservation_status'],\n",
      "      dtype='object')\n"
     ]
    }
   ],
   "source": [
    "print(species_observation.conservation_status)"
   ]
  },
  {
   "cell_type": "code",
   "execution_count": 144,
   "metadata": {},
   "outputs": [
    {
     "name": "stdout",
     "output_type": "stream",
     "text": [
      "Index(['scientific_name', 'park_name', 'observations', 'category',\n",
      "       'common_names', 'conservation_status'],\n",
      "      dtype='object')\n"
     ]
    }
   ],
   "source": [
    "print(species_observation.columns)"
   ]
  },
  {
   "cell_type": "code",
   "execution_count": 145,
   "metadata": {},
   "outputs": [
    {
     "name": "stdout",
     "output_type": "stream",
     "text": [
      "Bryce National Park                    5824\n",
      "Yosemite National Park                 5824\n",
      "Yellowstone National Park              5824\n",
      "Great Smoky Mountains National Park    5824\n",
      "Name: park_name, dtype: int64\n"
     ]
    }
   ],
   "source": [
    "print(species_observation.park_name.value_counts())"
   ]
  },
  {
   "cell_type": "code",
   "execution_count": 291,
   "metadata": {},
   "outputs": [
    {
     "data": {
      "text/html": [
       "<div>\n",
       "<style scoped>\n",
       "    .dataframe tbody tr th:only-of-type {\n",
       "        vertical-align: middle;\n",
       "    }\n",
       "\n",
       "    .dataframe tbody tr th {\n",
       "        vertical-align: top;\n",
       "    }\n",
       "\n",
       "    .dataframe thead th {\n",
       "        text-align: right;\n",
       "    }\n",
       "</style>\n",
       "<table border=\"1\" class=\"dataframe\">\n",
       "  <thead>\n",
       "    <tr style=\"text-align: right;\">\n",
       "      <th>park_name</th>\n",
       "      <th>Bryce National Park</th>\n",
       "      <th>Great Smoky Mountains National Park</th>\n",
       "      <th>Yellowstone National Park</th>\n",
       "      <th>Yosemite National Park</th>\n",
       "    </tr>\n",
       "  </thead>\n",
       "  <tbody>\n",
       "    <tr>\n",
       "      <th>count</th>\n",
       "      <td>7.00</td>\n",
       "      <td>7.00</td>\n",
       "      <td>7.00</td>\n",
       "      <td>7.00</td>\n",
       "    </tr>\n",
       "    <tr>\n",
       "      <th>mean</th>\n",
       "      <td>82289.29</td>\n",
       "      <td>61688.57</td>\n",
       "      <td>206223.14</td>\n",
       "      <td>123333.14</td>\n",
       "    </tr>\n",
       "    <tr>\n",
       "      <th>std</th>\n",
       "      <td>159881.23</td>\n",
       "      <td>120471.03</td>\n",
       "      <td>401719.45</td>\n",
       "      <td>240200.11</td>\n",
       "    </tr>\n",
       "    <tr>\n",
       "      <th>min</th>\n",
       "      <td>7380.00</td>\n",
       "      <td>5691.00</td>\n",
       "      <td>19440.00</td>\n",
       "      <td>11444.00</td>\n",
       "    </tr>\n",
       "    <tr>\n",
       "      <th>25%</th>\n",
       "      <td>10186.50</td>\n",
       "      <td>7456.50</td>\n",
       "      <td>25064.00</td>\n",
       "      <td>15049.00</td>\n",
       "    </tr>\n",
       "    <tr>\n",
       "      <th>50%</th>\n",
       "      <td>20550.00</td>\n",
       "      <td>15012.00</td>\n",
       "      <td>50795.00</td>\n",
       "      <td>30339.00</td>\n",
       "    </tr>\n",
       "    <tr>\n",
       "      <th>75%</th>\n",
       "      <td>42319.50</td>\n",
       "      <td>31292.50</td>\n",
       "      <td>105136.00</td>\n",
       "      <td>62995.00</td>\n",
       "    </tr>\n",
       "    <tr>\n",
       "      <th>max</th>\n",
       "      <td>443083.00</td>\n",
       "      <td>333619.00</td>\n",
       "      <td>1112927.00</td>\n",
       "      <td>665461.00</td>\n",
       "    </tr>\n",
       "  </tbody>\n",
       "</table>\n",
       "</div>"
      ],
      "text/plain": [
       "park_name  Bryce National Park  Great Smoky Mountains National Park  \\\n",
       "count                     7.00                                 7.00   \n",
       "mean                  82289.29                             61688.57   \n",
       "std                  159881.23                            120471.03   \n",
       "min                    7380.00                              5691.00   \n",
       "25%                   10186.50                              7456.50   \n",
       "50%                   20550.00                             15012.00   \n",
       "75%                   42319.50                             31292.50   \n",
       "max                  443083.00                            333619.00   \n",
       "\n",
       "park_name  Yellowstone National Park  Yosemite National Park  \n",
       "count                           7.00                    7.00  \n",
       "mean                       206223.14               123333.14  \n",
       "std                        401719.45               240200.11  \n",
       "min                         19440.00                11444.00  \n",
       "25%                         25064.00                15049.00  \n",
       "50%                         50795.00                30339.00  \n",
       "75%                        105136.00                62995.00  \n",
       "max                       1112927.00               665461.00  "
      ]
     },
     "execution_count": 291,
     "metadata": {},
     "output_type": "execute_result"
    }
   ],
   "source": [
    "park_class = species_observation.groupby([\"park_name\", \"category\"]).sum().reset_index()\n",
    "parkdist = pd.pivot_table(park_class, index = \"category\", values=\"observations\", columns = \"park_name\")\n",
    "parkdist.describe().apply(lambda x: x.round(2))"
   ]
  },
  {
   "cell_type": "code",
   "execution_count": 292,
   "metadata": {},
   "outputs": [
    {
     "data": {
      "text/html": [
       "<div>\n",
       "<style scoped>\n",
       "    .dataframe tbody tr th:only-of-type {\n",
       "        vertical-align: middle;\n",
       "    }\n",
       "\n",
       "    .dataframe tbody tr th {\n",
       "        vertical-align: top;\n",
       "    }\n",
       "\n",
       "    .dataframe thead th {\n",
       "        text-align: right;\n",
       "    }\n",
       "</style>\n",
       "<table border=\"1\" class=\"dataframe\">\n",
       "  <thead>\n",
       "    <tr style=\"text-align: right;\">\n",
       "      <th>category</th>\n",
       "      <th>Amphibian</th>\n",
       "      <th>Bird</th>\n",
       "      <th>Fish</th>\n",
       "      <th>Mammal</th>\n",
       "      <th>Nonvascular Plant</th>\n",
       "      <th>Reptile</th>\n",
       "      <th>Vascular Plant</th>\n",
       "    </tr>\n",
       "  </thead>\n",
       "  <tbody>\n",
       "    <tr>\n",
       "      <th>count</th>\n",
       "      <td>4.00</td>\n",
       "      <td>4.00</td>\n",
       "      <td>4.00</td>\n",
       "      <td>4.00</td>\n",
       "      <td>4.00</td>\n",
       "      <td>4.00</td>\n",
       "      <td>4.00</td>\n",
       "    </tr>\n",
       "    <tr>\n",
       "      <th>mean</th>\n",
       "      <td>10992.75</td>\n",
       "      <td>73208.25</td>\n",
       "      <td>17704.50</td>\n",
       "      <td>29174.00</td>\n",
       "      <td>47663.25</td>\n",
       "      <td>11169.50</td>\n",
       "      <td>638772.50</td>\n",
       "    </tr>\n",
       "    <tr>\n",
       "      <th>std</th>\n",
       "      <td>6125.11</td>\n",
       "      <td>39384.21</td>\n",
       "      <td>9426.41</td>\n",
       "      <td>15745.48</td>\n",
       "      <td>25755.48</td>\n",
       "      <td>6076.66</td>\n",
       "      <td>344938.55</td>\n",
       "    </tr>\n",
       "    <tr>\n",
       "      <th>min</th>\n",
       "      <td>5707.00</td>\n",
       "      <td>37728.00</td>\n",
       "      <td>9206.00</td>\n",
       "      <td>15012.00</td>\n",
       "      <td>24857.00</td>\n",
       "      <td>5691.00</td>\n",
       "      <td>333619.00</td>\n",
       "    </tr>\n",
       "    <tr>\n",
       "      <th>25%</th>\n",
       "      <td>6961.75</td>\n",
       "      <td>48167.25</td>\n",
       "      <td>11618.75</td>\n",
       "      <td>19165.50</td>\n",
       "      <td>30958.25</td>\n",
       "      <td>7385.25</td>\n",
       "      <td>415717.00</td>\n",
       "    </tr>\n",
       "    <tr>\n",
       "      <th>50%</th>\n",
       "      <td>9412.00</td>\n",
       "      <td>63927.00</td>\n",
       "      <td>15519.00</td>\n",
       "      <td>25444.50</td>\n",
       "      <td>41387.50</td>\n",
       "      <td>9716.50</td>\n",
       "      <td>554272.00</td>\n",
       "    </tr>\n",
       "    <tr>\n",
       "      <th>75%</th>\n",
       "      <td>13443.00</td>\n",
       "      <td>88968.00</td>\n",
       "      <td>21604.75</td>\n",
       "      <td>35453.00</td>\n",
       "      <td>58092.50</td>\n",
       "      <td>13500.75</td>\n",
       "      <td>777327.50</td>\n",
       "    </tr>\n",
       "    <tr>\n",
       "      <th>max</th>\n",
       "      <td>19440.00</td>\n",
       "      <td>127251.00</td>\n",
       "      <td>30574.00</td>\n",
       "      <td>50795.00</td>\n",
       "      <td>83021.00</td>\n",
       "      <td>19554.00</td>\n",
       "      <td>1112927.00</td>\n",
       "    </tr>\n",
       "  </tbody>\n",
       "</table>\n",
       "</div>"
      ],
      "text/plain": [
       "category  Amphibian       Bird      Fish    Mammal  Nonvascular Plant  \\\n",
       "count          4.00       4.00      4.00      4.00               4.00   \n",
       "mean       10992.75   73208.25  17704.50  29174.00           47663.25   \n",
       "std         6125.11   39384.21   9426.41  15745.48           25755.48   \n",
       "min         5707.00   37728.00   9206.00  15012.00           24857.00   \n",
       "25%         6961.75   48167.25  11618.75  19165.50           30958.25   \n",
       "50%         9412.00   63927.00  15519.00  25444.50           41387.50   \n",
       "75%        13443.00   88968.00  21604.75  35453.00           58092.50   \n",
       "max        19440.00  127251.00  30574.00  50795.00           83021.00   \n",
       "\n",
       "category   Reptile  Vascular Plant  \n",
       "count         4.00            4.00  \n",
       "mean      11169.50       638772.50  \n",
       "std        6076.66       344938.55  \n",
       "min        5691.00       333619.00  \n",
       "25%        7385.25       415717.00  \n",
       "50%        9716.50       554272.00  \n",
       "75%       13500.75       777327.50  \n",
       "max       19554.00      1112927.00  "
      ]
     },
     "execution_count": 292,
     "metadata": {},
     "output_type": "execute_result"
    }
   ],
   "source": [
    "classdist = pd.pivot_table(park_class, index = \"park_name\", values=\"observations\", columns=\"category\")\n",
    "classdist.describe().apply(lambda x: x.round(2))"
   ]
  },
  {
   "cell_type": "code",
   "execution_count": 289,
   "metadata": {},
   "outputs": [
    {
     "data": {
      "image/png": "[encoded data removed]",
      "text/plain": [
       "<Figure size 720x720 with 1 Axes>"
      ]
     },
     "metadata": {
      "needs_background": "light"
     },
     "output_type": "display_data"
    }
   ],
   "source": [
    "fig, ax = plt.subplots(figsize = (10,10))\n",
    "order=park_class.groupby(\"park_name\").sum().sort_values(ascending=False, by=\"observations\").index\n",
    "sns.barplot(x = park_class.category, y = park_class.observations, hue = park_class.park_name, hue_order = order)\n",
    "ax.set_xlabel(\"Biological Class\", fontsize = \"large\")\n",
    "ax.set_ylabel(\"Observations (millions)\", fontsize = \"large\")\n",
    "ytickrange = range(0, 12*10**5, 1*10**5)\n",
    "ax.set_yticks(ytickrange)\n",
    "ax.set_yticklabels([0.0, 0.1, 0.2, 0.3, 0.4, 0.5, 0.6, 0.7, 0.8, 0.9, 1.0, 1.1])\n",
    "plt.title(\"Observations of each class in each national park\", fontsize = \"large\")\n",
    "plt.legend()\n",
    "plt.tight_layout()\n",
    "plt.show()"
   ]
  },
  {
   "cell_type": "code",
   "execution_count": 255,
   "metadata": {},
   "outputs": [
    {
     "name": "stdout",
     "output_type": "stream",
     "text": [
      "Total observations = 3314739\n",
      "3314739\n"
     ]
    }
   ],
   "source": [
    "#Checking that the processing has conserved the total number of observations\n",
    "print(\"Total observations = {}\".format(observations.observations.sum()))\n",
    "print(park_class.observations.sum())"
   ]
  },
  {
   "cell_type": "markdown",
   "metadata": {},
   "source": [
    "So we can see that Yellowstone has the most of each Biological Class, followed by Yosemite, Bryce, and Great Smoky Mountains National Parks respectively. Vascular plants completely dominate the other biological classes in terms of observations."
   ]
  },
  {
   "cell_type": "code",
   "execution_count": 256,
   "metadata": {},
   "outputs": [
    {
     "data": {
      "image/png": "[encoded data removed]",
      "text/plain": [
       "<Figure size 720x720 with 1 Axes>"
      ]
     },
     "metadata": {
      "needs_background": "light"
     },
     "output_type": "display_data"
    }
   ],
   "source": [
    "no_vasplant = species_observation[species_observation.category!=\"Vascular Plant\"].groupby([\"park_name\", \"category\"]).sum().reset_index()\n",
    "fig, ax = plt.subplots(figsize = (10,10))\n",
    "order=no_vasplant.groupby(\"park_name\").sum().sort_values(ascending=False, by=\"observations\").index\n",
    "sns.barplot(x = no_vasplant.category, y = no_vasplant.observations, hue = no_vasplant.park_name, hue_order = order)\n",
    "ax.set_xlabel(\"Biological Class\", fontsize = \"large\")\n",
    "ax.set_ylabel(\"Observations\", fontsize = \"large\")\n",
    "ytickrange = range(0, 2*10**5, 1*10**4)\n",
    "#ax.set_yticks(ytickrange)\n",
    "#ax.set_yticklabels([0.0, 0.1, 0.2, 0.3, 0.4, 0.5, 0.6, 0.7, 0.8, 0.9, 1.0, 1.1])\n",
    "plt.title(\"Observations of each class, excluding vascular plants, in National Parks\", fontsize = \"large\")\n",
    "plt.legend()\n",
    "plt.tight_layout()\n",
    "plt.show()"
   ]
  },
  {
   "cell_type": "markdown",
   "metadata": {},
   "source": [
    "After Vascular Plant, Bird, Nonvascular Plant, Mammal, Fish, and Reptile/Amphibian are the respective most common classes."
   ]
  },
  {
   "cell_type": "code",
   "execution_count": 293,
   "metadata": {},
   "outputs": [
    {
     "data": {
      "image/png": "[encoded data removed]",
      "text/plain": [
       "<Figure size 720x720 with 1 Axes>"
      ]
     },
     "metadata": {
      "needs_background": "light"
     },
     "output_type": "display_data"
    }
   ],
   "source": [
    "fig, ax = plt.subplots(figsize = (10,10))\n",
    "data = park_class[park_class.category.isin([\"Amphibian\", \"Reptile\"])]\n",
    "order=data.groupby(\"park_name\").sum().sort_values(ascending=False, by=\"observations\").index\n",
    "sns.barplot(x = data.category, y = data.observations, hue = data.park_name, hue_order = order)\n",
    "ax.set_xlabel(\"Biological Class\", fontsize = \"large\")\n",
    "ax.set_ylabel(\"Observations\", fontsize = \"large\")\n",
    "ytickrange = range(0, 12*10**5, 1*10**5)\n",
    "#ax.set_yticks(ytickrange)\n",
    "#ax.set_yticklabels([0.0, 0.1, 0.2, 0.3, 0.4, 0.5, 0.6, 0.7, 0.8, 0.9, 1.0, 1.1])\n",
    "plt.title(\"Observations of Amphibians and Reptiles in each national park\", fontsize = \"large\")\n",
    "plt.legend()\n",
    "plt.tight_layout()\n",
    "plt.show()"
   ]
  },
  {
   "cell_type": "markdown",
   "metadata": {},
   "source": [
    "The number of amphibians and reptiles are virtually the same!"
   ]
  },
  {
   "cell_type": "code",
   "execution_count": 317,
   "metadata": {},
   "outputs": [
    {
     "name": "stdout",
     "output_type": "stream",
     "text": [
      "park_name\n",
      "Bryce National Park                     576025\n",
      "Great Smoky Mountains National Park     431820\n",
      "Yellowstone National Park              1443562\n",
      "Yosemite National Park                  863332\n",
      "dtype: int64\n"
     ]
    },
    {
     "ename": "ValueError",
     "evalue": "'hot' is neither a valid single color nor a color sequence consisting of single character color specifiers such as 'rgb'. Note also that the latter is deprecated.",
     "output_type": "error",
     "traceback": [
      "\u001b[1;31m---------------------------------------------------------------------------\u001b[0m",
      "\u001b[1;31mValueError\u001b[0m                                Traceback (most recent call last)",
      "\u001b[1;32md:\\Idc\\Anaconda\\lib\\site-packages\\matplotlib\\colors.py\u001b[0m in \u001b[0;36mto_rgba_array\u001b[1;34m(c, alpha)\u001b[0m\n\u001b[0;32m    324\u001b[0m         \u001b[1;32mtry\u001b[0m\u001b[1;33m:\u001b[0m\u001b[1;33m\u001b[0m\u001b[1;33m\u001b[0m\u001b[0m\n\u001b[1;32m--> 325\u001b[1;33m             \u001b[0mresult\u001b[0m \u001b[1;33m=\u001b[0m \u001b[0mnp\u001b[0m\u001b[1;33m.\u001b[0m\u001b[0marray\u001b[0m\u001b[1;33m(\u001b[0m\u001b[1;33m[\u001b[0m\u001b[0mto_rgba\u001b[0m\u001b[1;33m(\u001b[0m\u001b[0mcc\u001b[0m\u001b[1;33m,\u001b[0m \u001b[0malpha\u001b[0m\u001b[1;33m)\u001b[0m \u001b[1;32mfor\u001b[0m \u001b[0mcc\u001b[0m \u001b[1;32min\u001b[0m \u001b[0mc\u001b[0m\u001b[1;33m]\u001b[0m\u001b[1;33m)\u001b[0m\u001b[1;33m\u001b[0m\u001b[1;33m\u001b[0m\u001b[0m\n\u001b[0m\u001b[0;32m    326\u001b[0m         \u001b[1;32mexcept\u001b[0m \u001b[0mValueError\u001b[0m \u001b[1;32mas\u001b[0m \u001b[0merr\u001b[0m\u001b[1;33m:\u001b[0m\u001b[1;33m\u001b[0m\u001b[1;33m\u001b[0m\u001b[0m\n",
      "\u001b[1;32md:\\Idc\\Anaconda\\lib\\site-packages\\matplotlib\\colors.py\u001b[0m in \u001b[0;36m<listcomp>\u001b[1;34m(.0)\u001b[0m\n\u001b[0;32m    324\u001b[0m         \u001b[1;32mtry\u001b[0m\u001b[1;33m:\u001b[0m\u001b[1;33m\u001b[0m\u001b[1;33m\u001b[0m\u001b[0m\n\u001b[1;32m--> 325\u001b[1;33m             \u001b[0mresult\u001b[0m \u001b[1;33m=\u001b[0m \u001b[0mnp\u001b[0m\u001b[1;33m.\u001b[0m\u001b[0marray\u001b[0m\u001b[1;33m(\u001b[0m\u001b[1;33m[\u001b[0m\u001b[0mto_rgba\u001b[0m\u001b[1;33m(\u001b[0m\u001b[0mcc\u001b[0m\u001b[1;33m,\u001b[0m \u001b[0malpha\u001b[0m\u001b[1;33m)\u001b[0m \u001b[1;32mfor\u001b[0m \u001b[0mcc\u001b[0m \u001b[1;32min\u001b[0m \u001b[0mc\u001b[0m\u001b[1;33m]\u001b[0m\u001b[1;33m)\u001b[0m\u001b[1;33m\u001b[0m\u001b[1;33m\u001b[0m\u001b[0m\n\u001b[0m\u001b[0;32m    326\u001b[0m         \u001b[1;32mexcept\u001b[0m \u001b[0mValueError\u001b[0m \u001b[1;32mas\u001b[0m \u001b[0merr\u001b[0m\u001b[1;33m:\u001b[0m\u001b[1;33m\u001b[0m\u001b[1;33m\u001b[0m\u001b[0m\n",
      "\u001b[1;32md:\\Idc\\Anaconda\\lib\\site-packages\\matplotlib\\colors.py\u001b[0m in \u001b[0;36mto_rgba\u001b[1;34m(c, alpha)\u001b[0m\n\u001b[0;32m    188\u001b[0m     \u001b[1;32mif\u001b[0m \u001b[0mrgba\u001b[0m \u001b[1;32mis\u001b[0m \u001b[1;32mNone\u001b[0m\u001b[1;33m:\u001b[0m  \u001b[1;31m# Suppress exception chaining of cache lookup failure.\u001b[0m\u001b[1;33m\u001b[0m\u001b[1;33m\u001b[0m\u001b[0m\n\u001b[1;32m--> 189\u001b[1;33m         \u001b[0mrgba\u001b[0m \u001b[1;33m=\u001b[0m \u001b[0m_to_rgba_no_colorcycle\u001b[0m\u001b[1;33m(\u001b[0m\u001b[0mc\u001b[0m\u001b[1;33m,\u001b[0m \u001b[0malpha\u001b[0m\u001b[1;33m)\u001b[0m\u001b[1;33m\u001b[0m\u001b[1;33m\u001b[0m\u001b[0m\n\u001b[0m\u001b[0;32m    190\u001b[0m         \u001b[1;32mtry\u001b[0m\u001b[1;33m:\u001b[0m\u001b[1;33m\u001b[0m\u001b[1;33m\u001b[0m\u001b[0m\n",
      "\u001b[1;32md:\\Idc\\Anaconda\\lib\\site-packages\\matplotlib\\colors.py\u001b[0m in \u001b[0;36m_to_rgba_no_colorcycle\u001b[1;34m(c, alpha)\u001b[0m\n\u001b[0;32m    259\u001b[0m             \u001b[1;32mreturn\u001b[0m \u001b[0mc\u001b[0m\u001b[1;33m,\u001b[0m \u001b[0mc\u001b[0m\u001b[1;33m,\u001b[0m \u001b[0mc\u001b[0m\u001b[1;33m,\u001b[0m \u001b[0malpha\u001b[0m \u001b[1;32mif\u001b[0m \u001b[0malpha\u001b[0m \u001b[1;32mis\u001b[0m \u001b[1;32mnot\u001b[0m \u001b[1;32mNone\u001b[0m \u001b[1;32melse\u001b[0m \u001b[1;36m1.\u001b[0m\u001b[1;33m\u001b[0m\u001b[1;33m\u001b[0m\u001b[0m\n\u001b[1;32m--> 260\u001b[1;33m         \u001b[1;32mraise\u001b[0m \u001b[0mValueError\u001b[0m\u001b[1;33m(\u001b[0m\u001b[1;34mf\"Invalid RGBA argument: {orig_c!r}\"\u001b[0m\u001b[1;33m)\u001b[0m\u001b[1;33m\u001b[0m\u001b[1;33m\u001b[0m\u001b[0m\n\u001b[0m\u001b[0;32m    261\u001b[0m     \u001b[1;31m# tuple color.\u001b[0m\u001b[1;33m\u001b[0m\u001b[1;33m\u001b[0m\u001b[1;33m\u001b[0m\u001b[0m\n",
      "\u001b[1;31mValueError\u001b[0m: Invalid RGBA argument: 'h'",
      "\nThe above exception was the direct cause of the following exception:\n",
      "\u001b[1;31mValueError\u001b[0m                                Traceback (most recent call last)",
      "\u001b[1;32m<ipython-input-317-48f8355dc37d>\u001b[0m in \u001b[0;36m<module>\u001b[1;34m\u001b[0m\n\u001b[0;32m      1\u001b[0m \u001b[0mprint\u001b[0m\u001b[1;33m(\u001b[0m\u001b[0mparkdist\u001b[0m\u001b[1;33m.\u001b[0m\u001b[0msum\u001b[0m\u001b[1;33m(\u001b[0m\u001b[1;33m)\u001b[0m\u001b[1;33m)\u001b[0m\u001b[1;33m\u001b[0m\u001b[1;33m\u001b[0m\u001b[0m\n\u001b[0;32m      2\u001b[0m \u001b[0mfig\u001b[0m\u001b[1;33m,\u001b[0m \u001b[0max\u001b[0m \u001b[1;33m=\u001b[0m \u001b[0mplt\u001b[0m\u001b[1;33m.\u001b[0m\u001b[0msubplots\u001b[0m\u001b[1;33m(\u001b[0m\u001b[0mfigsize\u001b[0m \u001b[1;33m=\u001b[0m \u001b[1;33m(\u001b[0m\u001b[1;36m10\u001b[0m\u001b[1;33m,\u001b[0m\u001b[1;36m10\u001b[0m\u001b[1;33m)\u001b[0m\u001b[1;33m)\u001b[0m\u001b[1;33m\u001b[0m\u001b[1;33m\u001b[0m\u001b[0m\n\u001b[1;32m----> 3\u001b[1;33m \u001b[0max\u001b[0m\u001b[1;33m.\u001b[0m\u001b[0mbar\u001b[0m\u001b[1;33m(\u001b[0m\u001b[1;33m[\u001b[0m\u001b[1;36m0\u001b[0m\u001b[1;33m,\u001b[0m\u001b[1;36m1\u001b[0m\u001b[1;33m,\u001b[0m\u001b[1;36m2\u001b[0m\u001b[1;33m,\u001b[0m\u001b[1;36m3\u001b[0m\u001b[1;33m]\u001b[0m\u001b[1;33m,\u001b[0m\u001b[0mparkdist\u001b[0m\u001b[1;33m.\u001b[0m\u001b[0msum\u001b[0m\u001b[1;33m(\u001b[0m\u001b[1;33m)\u001b[0m\u001b[1;33m,\u001b[0m \u001b[0mcolor\u001b[0m \u001b[1;33m=\u001b[0m \u001b[1;34m\"hot\"\u001b[0m\u001b[1;33m)\u001b[0m\u001b[1;33m\u001b[0m\u001b[1;33m\u001b[0m\u001b[0m\n\u001b[0m\u001b[0;32m      4\u001b[0m \u001b[0max\u001b[0m\u001b[1;33m.\u001b[0m\u001b[0mset_xticks\u001b[0m\u001b[1;33m(\u001b[0m\u001b[1;33m[\u001b[0m\u001b[1;36m0\u001b[0m\u001b[1;33m,\u001b[0m\u001b[1;36m1\u001b[0m\u001b[1;33m,\u001b[0m\u001b[1;36m2\u001b[0m\u001b[1;33m,\u001b[0m\u001b[1;36m3\u001b[0m\u001b[1;33m]\u001b[0m\u001b[1;33m)\u001b[0m\u001b[1;33m\u001b[0m\u001b[1;33m\u001b[0m\u001b[0m\n\u001b[0;32m      5\u001b[0m \u001b[0max\u001b[0m\u001b[1;33m.\u001b[0m\u001b[0mset_xticklabels\u001b[0m\u001b[1;33m(\u001b[0m\u001b[1;33m[\u001b[0m\u001b[1;34m\"Bryce\"\u001b[0m\u001b[1;33m,\u001b[0m \u001b[1;34m\"Great Smoky Mountains\"\u001b[0m\u001b[1;33m,\u001b[0m \u001b[1;34m\"Yellowstone\"\u001b[0m\u001b[1;33m,\u001b[0m \u001b[1;34m\"Yosemite\"\u001b[0m\u001b[1;33m]\u001b[0m\u001b[1;33m)\u001b[0m\u001b[1;33m\u001b[0m\u001b[1;33m\u001b[0m\u001b[0m\n",
      "\u001b[1;32md:\\Idc\\Anaconda\\lib\\site-packages\\matplotlib\\__init__.py\u001b[0m in \u001b[0;36minner\u001b[1;34m(ax, data, *args, **kwargs)\u001b[0m\n\u001b[0;32m   1445\u001b[0m     \u001b[1;32mdef\u001b[0m \u001b[0minner\u001b[0m\u001b[1;33m(\u001b[0m\u001b[0max\u001b[0m\u001b[1;33m,\u001b[0m \u001b[1;33m*\u001b[0m\u001b[0margs\u001b[0m\u001b[1;33m,\u001b[0m \u001b[0mdata\u001b[0m\u001b[1;33m=\u001b[0m\u001b[1;32mNone\u001b[0m\u001b[1;33m,\u001b[0m \u001b[1;33m**\u001b[0m\u001b[0mkwargs\u001b[0m\u001b[1;33m)\u001b[0m\u001b[1;33m:\u001b[0m\u001b[1;33m\u001b[0m\u001b[1;33m\u001b[0m\u001b[0m\n\u001b[0;32m   1446\u001b[0m         \u001b[1;32mif\u001b[0m \u001b[0mdata\u001b[0m \u001b[1;32mis\u001b[0m \u001b[1;32mNone\u001b[0m\u001b[1;33m:\u001b[0m\u001b[1;33m\u001b[0m\u001b[1;33m\u001b[0m\u001b[0m\n\u001b[1;32m-> 1447\u001b[1;33m             \u001b[1;32mreturn\u001b[0m \u001b[0mfunc\u001b[0m\u001b[1;33m(\u001b[0m\u001b[0max\u001b[0m\u001b[1;33m,\u001b[0m \u001b[1;33m*\u001b[0m\u001b[0mmap\u001b[0m\u001b[1;33m(\u001b[0m\u001b[0msanitize_sequence\u001b[0m\u001b[1;33m,\u001b[0m \u001b[0margs\u001b[0m\u001b[1;33m)\u001b[0m\u001b[1;33m,\u001b[0m \u001b[1;33m**\u001b[0m\u001b[0mkwargs\u001b[0m\u001b[1;33m)\u001b[0m\u001b[1;33m\u001b[0m\u001b[1;33m\u001b[0m\u001b[0m\n\u001b[0m\u001b[0;32m   1448\u001b[0m \u001b[1;33m\u001b[0m\u001b[0m\n\u001b[0;32m   1449\u001b[0m         \u001b[0mbound\u001b[0m \u001b[1;33m=\u001b[0m \u001b[0mnew_sig\u001b[0m\u001b[1;33m.\u001b[0m\u001b[0mbind\u001b[0m\u001b[1;33m(\u001b[0m\u001b[0max\u001b[0m\u001b[1;33m,\u001b[0m \u001b[1;33m*\u001b[0m\u001b[0margs\u001b[0m\u001b[1;33m,\u001b[0m \u001b[1;33m**\u001b[0m\u001b[0mkwargs\u001b[0m\u001b[1;33m)\u001b[0m\u001b[1;33m\u001b[0m\u001b[1;33m\u001b[0m\u001b[0m\n",
      "\u001b[1;32md:\\Idc\\Anaconda\\lib\\site-packages\\matplotlib\\axes\\_axes.py\u001b[0m in \u001b[0;36mbar\u001b[1;34m(self, x, height, width, bottom, align, **kwargs)\u001b[0m\n\u001b[0;32m   2441\u001b[0m \u001b[1;33m\u001b[0m\u001b[0m\n\u001b[0;32m   2442\u001b[0m         \u001b[0mlinewidth\u001b[0m \u001b[1;33m=\u001b[0m \u001b[0mitertools\u001b[0m\u001b[1;33m.\u001b[0m\u001b[0mcycle\u001b[0m\u001b[1;33m(\u001b[0m\u001b[0mnp\u001b[0m\u001b[1;33m.\u001b[0m\u001b[0matleast_1d\u001b[0m\u001b[1;33m(\u001b[0m\u001b[0mlinewidth\u001b[0m\u001b[1;33m)\u001b[0m\u001b[1;33m)\u001b[0m\u001b[1;33m\u001b[0m\u001b[1;33m\u001b[0m\u001b[0m\n\u001b[1;32m-> 2443\u001b[1;33m         color = itertools.chain(itertools.cycle(mcolors.to_rgba_array(color)),\n\u001b[0m\u001b[0;32m   2444\u001b[0m                                 \u001b[1;31m# Fallback if color == \"none\".\u001b[0m\u001b[1;33m\u001b[0m\u001b[1;33m\u001b[0m\u001b[1;33m\u001b[0m\u001b[0m\n\u001b[0;32m   2445\u001b[0m                                 itertools.repeat('none'))\n",
      "\u001b[1;32md:\\Idc\\Anaconda\\lib\\site-packages\\matplotlib\\colors.py\u001b[0m in \u001b[0;36mto_rgba_array\u001b[1;34m(c, alpha)\u001b[0m\n\u001b[0;32m    325\u001b[0m             \u001b[0mresult\u001b[0m \u001b[1;33m=\u001b[0m \u001b[0mnp\u001b[0m\u001b[1;33m.\u001b[0m\u001b[0marray\u001b[0m\u001b[1;33m(\u001b[0m\u001b[1;33m[\u001b[0m\u001b[0mto_rgba\u001b[0m\u001b[1;33m(\u001b[0m\u001b[0mcc\u001b[0m\u001b[1;33m,\u001b[0m \u001b[0malpha\u001b[0m\u001b[1;33m)\u001b[0m \u001b[1;32mfor\u001b[0m \u001b[0mcc\u001b[0m \u001b[1;32min\u001b[0m \u001b[0mc\u001b[0m\u001b[1;33m]\u001b[0m\u001b[1;33m)\u001b[0m\u001b[1;33m\u001b[0m\u001b[1;33m\u001b[0m\u001b[0m\n\u001b[0;32m    326\u001b[0m         \u001b[1;32mexcept\u001b[0m \u001b[0mValueError\u001b[0m \u001b[1;32mas\u001b[0m \u001b[0merr\u001b[0m\u001b[1;33m:\u001b[0m\u001b[1;33m\u001b[0m\u001b[1;33m\u001b[0m\u001b[0m\n\u001b[1;32m--> 327\u001b[1;33m             raise ValueError(\n\u001b[0m\u001b[0;32m    328\u001b[0m                 \u001b[1;34m\"'%s' is neither a valid single color nor a color sequence \"\u001b[0m\u001b[1;33m\u001b[0m\u001b[1;33m\u001b[0m\u001b[0m\n\u001b[0;32m    329\u001b[0m                 \u001b[1;34m\"consisting of single character color specifiers such as \"\u001b[0m\u001b[1;33m\u001b[0m\u001b[1;33m\u001b[0m\u001b[0m\n",
      "\u001b[1;31mValueError\u001b[0m: 'hot' is neither a valid single color nor a color sequence consisting of single character color specifiers such as 'rgb'. Note also that the latter is deprecated."
     ]
    },
    {
     "data": {
      "image/png": "[encoded data removed]",
      "text/plain": [
       "<Figure size 720x720 with 1 Axes>"
      ]
     },
     "metadata": {
      "needs_background": "light"
     },
     "output_type": "display_data"
    }
   ],
   "source": [
    "print(parkdist.sum())\n",
    "fig, ax = plt.subplots(figsize = (10,10))\n",
    "ax.bar([0,1,2,3],parkdist.sum(), color = \"hot\")\n",
    "ax.set_xticks([0,1,2,3])\n",
    "ax.set_xticklabels([\"Bryce\", \"Great Smoky Mountains\", \"Yellowstone\", \"Yosemite\"])\n",
    "plt.tight_layout()\n",
    "plt.show()"
   ]
  },
  {
   "cell_type": "code",
   "execution_count": 309,
   "metadata": {},
   "outputs": [
    {
     "name": "stderr",
     "output_type": "stream",
     "text": [
      "d:\\Idc\\Anaconda\\lib\\site-packages\\seaborn\\_decorators.py:36: FutureWarning: Pass the following variable as a keyword arg: x. From version 0.12, the only valid positional argument will be `data`, and passing other arguments without an explicit keyword will result in an error or misinterpretation.\n",
      "  warnings.warn(\n"
     ]
    },
    {
     "data": {
      "text/plain": [
       "<AxesSubplot:ylabel='count'>"
      ]
     },
     "execution_count": 309,
     "metadata": {},
     "output_type": "execute_result"
    },
    {
     "data": {
      "image/png": "[encoded data removed]",
      "text/plain": [
       "<Figure size 432x288 with 1 Axes>"
      ]
     },
     "metadata": {
      "needs_background": "light"
     },
     "output_type": "display_data"
    }
   ],
   "source": [
    "sns.countplot(classdist.sum())"
   ]
  }
 ],
 "metadata": {
  "kernelspec": {
   "display_name": "Python 3",
   "language": "python",
   "name": "python3"
  },
  "language_info": {
   "codemirror_mode": {
    "name": "ipython",
    "version": 3
   },
   "file_extension": ".py",
   "mimetype": "text/x-python",
   "name": "python",
   "nbconvert_exporter": "python",
   "pygments_lexer": "ipython3",
   "version": "3.8.8"
  }
 },
 "nbformat": 4,
 "nbformat_minor": 4
}

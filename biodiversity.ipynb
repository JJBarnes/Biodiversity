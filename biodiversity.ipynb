{
 "cells": [
  {
   "cell_type": "markdown",
   "metadata": {},
   "source": [
    "# Bioiversity in National Parks Project"
   ]
  },
  {
   "cell_type": "markdown",
   "metadata": {},
   "source": [
    "## Scope:\n",
    "- We want to look at data for the wildlife that is found in the US national parks.\n",
    "- What is the proportion of different species in each park?\n",
    "- What are the proportions of different classes are in each park (mammals, birds, etc.)?\n",
    "- What populations are endangered (or otherwise have conservation status)? How many are there?\n",
    "- Which parks have the most unique species?\n",
    "- Which parks have the highest populations?"
   ]
  },
  {
   "cell_type": "code",
   "execution_count": 1,
   "metadata": {},
   "outputs": [],
   "source": [
    "#Import Modules\n",
    "import numpy as np\n",
    "import pandas as pd\n",
    "import matplotlib.pyplot as plt\n",
    "import seaborn as sns"
   ]
  },
  {
   "cell_type": "code",
   "execution_count": 2,
   "metadata": {},
   "outputs": [],
   "source": [
    "#Load in data\n",
    "observations = pd.read_csv(\"observations.csv\")\n",
    "species = pd.read_csv(\"species_info.csv\")"
   ]
  },
  {
   "cell_type": "markdown",
   "metadata": {},
   "source": [
    "1\\) Descriptive Analysis"
   ]
  },
  {
   "cell_type": "code",
   "execution_count": 3,
   "metadata": {},
   "outputs": [
    {
     "name": "stdout",
     "output_type": "stream",
     "text": [
      "['scientific_name', 'park_name', 'observations']\n",
      "['category', 'scientific_name', 'common_names', 'conservation_status']\n"
     ]
    }
   ],
   "source": [
    "print(observations.columns.to_list())\n",
    "print(species.columns.to_list())"
   ]
  },
  {
   "cell_type": "code",
   "execution_count": 4,
   "metadata": {},
   "outputs": [
    {
     "data": {
      "text/html": [
       "<div>\n",
       "<style scoped>\n",
       "    .dataframe tbody tr th:only-of-type {\n",
       "        vertical-align: middle;\n",
       "    }\n",
       "\n",
       "    .dataframe tbody tr th {\n",
       "        vertical-align: top;\n",
       "    }\n",
       "\n",
       "    .dataframe thead th {\n",
       "        text-align: right;\n",
       "    }\n",
       "</style>\n",
       "<table border=\"1\" class=\"dataframe\">\n",
       "  <thead>\n",
       "    <tr style=\"text-align: right;\">\n",
       "      <th></th>\n",
       "      <th>scientific_name</th>\n",
       "      <th>park_name</th>\n",
       "      <th>observations</th>\n",
       "    </tr>\n",
       "  </thead>\n",
       "  <tbody>\n",
       "    <tr>\n",
       "      <th>count</th>\n",
       "      <td>23296</td>\n",
       "      <td>23296</td>\n",
       "      <td>23296.000000</td>\n",
       "    </tr>\n",
       "    <tr>\n",
       "      <th>unique</th>\n",
       "      <td>5541</td>\n",
       "      <td>4</td>\n",
       "      <td>NaN</td>\n",
       "    </tr>\n",
       "    <tr>\n",
       "      <th>top</th>\n",
       "      <td>Myotis lucifugus</td>\n",
       "      <td>Yellowstone National Park</td>\n",
       "      <td>NaN</td>\n",
       "    </tr>\n",
       "    <tr>\n",
       "      <th>freq</th>\n",
       "      <td>12</td>\n",
       "      <td>5824</td>\n",
       "      <td>NaN</td>\n",
       "    </tr>\n",
       "    <tr>\n",
       "      <th>mean</th>\n",
       "      <td>NaN</td>\n",
       "      <td>NaN</td>\n",
       "      <td>142.287904</td>\n",
       "    </tr>\n",
       "    <tr>\n",
       "      <th>std</th>\n",
       "      <td>NaN</td>\n",
       "      <td>NaN</td>\n",
       "      <td>69.890532</td>\n",
       "    </tr>\n",
       "    <tr>\n",
       "      <th>min</th>\n",
       "      <td>NaN</td>\n",
       "      <td>NaN</td>\n",
       "      <td>9.000000</td>\n",
       "    </tr>\n",
       "    <tr>\n",
       "      <th>25%</th>\n",
       "      <td>NaN</td>\n",
       "      <td>NaN</td>\n",
       "      <td>86.000000</td>\n",
       "    </tr>\n",
       "    <tr>\n",
       "      <th>50%</th>\n",
       "      <td>NaN</td>\n",
       "      <td>NaN</td>\n",
       "      <td>124.000000</td>\n",
       "    </tr>\n",
       "    <tr>\n",
       "      <th>75%</th>\n",
       "      <td>NaN</td>\n",
       "      <td>NaN</td>\n",
       "      <td>195.000000</td>\n",
       "    </tr>\n",
       "    <tr>\n",
       "      <th>max</th>\n",
       "      <td>NaN</td>\n",
       "      <td>NaN</td>\n",
       "      <td>321.000000</td>\n",
       "    </tr>\n",
       "  </tbody>\n",
       "</table>\n",
       "</div>"
      ],
      "text/plain": [
       "         scientific_name                  park_name  observations\n",
       "count              23296                      23296  23296.000000\n",
       "unique              5541                          4           NaN\n",
       "top     Myotis lucifugus  Yellowstone National Park           NaN\n",
       "freq                  12                       5824           NaN\n",
       "mean                 NaN                        NaN    142.287904\n",
       "std                  NaN                        NaN     69.890532\n",
       "min                  NaN                        NaN      9.000000\n",
       "25%                  NaN                        NaN     86.000000\n",
       "50%                  NaN                        NaN    124.000000\n",
       "75%                  NaN                        NaN    195.000000\n",
       "max                  NaN                        NaN    321.000000"
      ]
     },
     "execution_count": 4,
     "metadata": {},
     "output_type": "execute_result"
    }
   ],
   "source": [
    "observations.describe(include='all')"
   ]
  },
  {
   "cell_type": "code",
   "execution_count": 5,
   "metadata": {},
   "outputs": [
    {
     "name": "stdout",
     "output_type": "stream",
     "text": [
      "<class 'pandas.core.frame.DataFrame'>\n",
      "RangeIndex: 23296 entries, 0 to 23295\n",
      "Data columns (total 3 columns):\n",
      " #   Column           Non-Null Count  Dtype \n",
      "---  ------           --------------  ----- \n",
      " 0   scientific_name  23296 non-null  object\n",
      " 1   park_name        23296 non-null  object\n",
      " 2   observations     23296 non-null  int64 \n",
      "dtypes: int64(1), object(2)\n",
      "memory usage: 546.1+ KB\n"
     ]
    }
   ],
   "source": [
    "observations.info()"
   ]
  },
  {
   "cell_type": "markdown",
   "metadata": {},
   "source": [
    "- There are no empty values in observations\n",
    "- The data types are as expected, an integer for observations and objects for the nominal variables.\n",
    "- Mean of 142.28, median of 124, std of 68.9, IQR of 109. Distribution of observations may be slightly skewed."
   ]
  },
  {
   "cell_type": "code",
   "execution_count": 6,
   "metadata": {},
   "outputs": [
    {
     "data": {
      "text/html": [
       "<div>\n",
       "<style scoped>\n",
       "    .dataframe tbody tr th:only-of-type {\n",
       "        vertical-align: middle;\n",
       "    }\n",
       "\n",
       "    .dataframe tbody tr th {\n",
       "        vertical-align: top;\n",
       "    }\n",
       "\n",
       "    .dataframe thead th {\n",
       "        text-align: right;\n",
       "    }\n",
       "</style>\n",
       "<table border=\"1\" class=\"dataframe\">\n",
       "  <thead>\n",
       "    <tr style=\"text-align: right;\">\n",
       "      <th></th>\n",
       "      <th>category</th>\n",
       "      <th>scientific_name</th>\n",
       "      <th>common_names</th>\n",
       "      <th>conservation_status</th>\n",
       "    </tr>\n",
       "  </thead>\n",
       "  <tbody>\n",
       "    <tr>\n",
       "      <th>count</th>\n",
       "      <td>5824</td>\n",
       "      <td>5824</td>\n",
       "      <td>5824</td>\n",
       "      <td>191</td>\n",
       "    </tr>\n",
       "    <tr>\n",
       "      <th>unique</th>\n",
       "      <td>7</td>\n",
       "      <td>5541</td>\n",
       "      <td>5504</td>\n",
       "      <td>4</td>\n",
       "    </tr>\n",
       "    <tr>\n",
       "      <th>top</th>\n",
       "      <td>Vascular Plant</td>\n",
       "      <td>Holcus lanatus</td>\n",
       "      <td>Brachythecium Moss</td>\n",
       "      <td>Species of Concern</td>\n",
       "    </tr>\n",
       "    <tr>\n",
       "      <th>freq</th>\n",
       "      <td>4470</td>\n",
       "      <td>3</td>\n",
       "      <td>7</td>\n",
       "      <td>161</td>\n",
       "    </tr>\n",
       "  </tbody>\n",
       "</table>\n",
       "</div>"
      ],
      "text/plain": [
       "              category scientific_name        common_names conservation_status\n",
       "count             5824            5824                5824                 191\n",
       "unique               7            5541                5504                   4\n",
       "top     Vascular Plant  Holcus lanatus  Brachythecium Moss  Species of Concern\n",
       "freq              4470               3                   7                 161"
      ]
     },
     "execution_count": 6,
     "metadata": {},
     "output_type": "execute_result"
    }
   ],
   "source": [
    "species.describe(include='all')"
   ]
  },
  {
   "cell_type": "code",
   "execution_count": 7,
   "metadata": {},
   "outputs": [
    {
     "name": "stdout",
     "output_type": "stream",
     "text": [
      "<class 'pandas.core.frame.DataFrame'>\n",
      "RangeIndex: 5824 entries, 0 to 5823\n",
      "Data columns (total 4 columns):\n",
      " #   Column               Non-Null Count  Dtype \n",
      "---  ------               --------------  ----- \n",
      " 0   category             5824 non-null   object\n",
      " 1   scientific_name      5824 non-null   object\n",
      " 2   common_names         5824 non-null   object\n",
      " 3   conservation_status  191 non-null    object\n",
      "dtypes: object(4)\n",
      "memory usage: 182.1+ KB\n"
     ]
    }
   ],
   "source": [
    "species.info()"
   ]
  },
  {
   "cell_type": "markdown",
   "metadata": {},
   "source": [
    "- All data types are as expected, as each variable is a nominal category.\n",
    "- No missing data inside the first 3 columns, but many in conservation_status\n",
    "- Scientific name repeated up to 3 times - potential duplicates?"
   ]
  },
  {
   "cell_type": "code",
   "execution_count": 8,
   "metadata": {},
   "outputs": [
    {
     "name": "stdout",
     "output_type": "stream",
     "text": [
      "False    5824\n",
      "dtype: int64\n"
     ]
    }
   ],
   "source": [
    "duplicates = species.duplicated()\n",
    "print(duplicates.value_counts())"
   ]
  },
  {
   "cell_type": "markdown",
   "metadata": {},
   "source": [
    "No duplicates?"
   ]
  },
  {
   "cell_type": "code",
   "execution_count": 9,
   "metadata": {},
   "outputs": [
    {
     "name": "stdout",
     "output_type": "stream",
     "text": [
      "Columba livia          2\n",
      "Procyon lotor          2\n",
      "Myotis lucifugus       2\n",
      "Holcus lanatus         2\n",
      "Puma concolor          2\n",
      "                      ..\n",
      "Sorex palustris        1\n",
      "Zizia aptera           1\n",
      "Apocynum cannabinum    1\n",
      "Trifolium repens       1\n",
      "Carex leptalea         1\n",
      "Name: scientific_name, Length: 274, dtype: int64\n"
     ]
    }
   ],
   "source": [
    "print(species.scientific_name[species.scientific_name.duplicated()].value_counts())"
   ]
  },
  {
   "cell_type": "code",
   "execution_count": 10,
   "metadata": {},
   "outputs": [
    {
     "name": "stdout",
     "output_type": "stream",
     "text": [
      "     category scientific_name                               common_names  \\\n",
      "26     Mammal   Procyon lotor                    Common Raccoon, Raccoon   \n",
      "3030   Mammal   Procyon lotor  Common Raccoon, Northern Raccoon, Raccoon   \n",
      "4459   Mammal   Procyon lotor                                    Raccoon   \n",
      "\n",
      "     conservation_status  \n",
      "26                   NaN  \n",
      "3030                 NaN  \n",
      "4459                 NaN  \n"
     ]
    }
   ],
   "source": [
    "print(species[species.scientific_name==\"Procyon lotor\"])"
   ]
  },
  {
   "cell_type": "code",
   "execution_count": 11,
   "metadata": {},
   "outputs": [
    {
     "name": "stdout",
     "output_type": "stream",
     "text": [
      "     category    scientific_name             common_names conservation_status\n",
      "49     Mammal  Castor canadensis  American Beaver, Beaver                 NaN\n",
      "3050   Mammal  Castor canadensis          American Beaver                 NaN\n",
      "4475   Mammal  Castor canadensis                   Beaver                 NaN\n"
     ]
    }
   ],
   "source": [
    "print(species[species.scientific_name==\"Castor canadensis\"])"
   ]
  },
  {
   "cell_type": "markdown",
   "metadata": {},
   "source": [
    "Duplicates are presumably from different regions having different names for their animals. In order to prevent duplicates, when merging, we will drop duplicates of the scientific names."
   ]
  },
  {
   "cell_type": "code",
   "execution_count": 12,
   "metadata": {},
   "outputs": [
    {
     "name": "stdout",
     "output_type": "stream",
     "text": [
      "Species of Concern    161\n",
      "Endangered             16\n",
      "Threatened             10\n",
      "In Recovery             4\n",
      "Name: conservation_status, dtype: int64\n"
     ]
    }
   ],
   "source": [
    "print(species.conservation_status.value_counts())"
   ]
  },
  {
   "cell_type": "markdown",
   "metadata": {},
   "source": [
    "- Doesn't follow the IUCN list for conservation, or the NatureServe conservation system, so there is no direct comparison.\n",
    "- Hypothesis - it may be for species of no concern"
   ]
  },
  {
   "cell_type": "code",
   "execution_count": 13,
   "metadata": {},
   "outputs": [],
   "source": [
    "species_observation = pd.merge(observations, species.drop_duplicates(subset=\"scientific_name\"), on = 'scientific_name')"
   ]
  },
  {
   "cell_type": "code",
   "execution_count": 14,
   "metadata": {},
   "outputs": [
    {
     "data": {
      "text/html": [
       "<div>\n",
       "<style scoped>\n",
       "    .dataframe tbody tr th:only-of-type {\n",
       "        vertical-align: middle;\n",
       "    }\n",
       "\n",
       "    .dataframe tbody tr th {\n",
       "        vertical-align: top;\n",
       "    }\n",
       "\n",
       "    .dataframe thead th {\n",
       "        text-align: right;\n",
       "    }\n",
       "</style>\n",
       "<table border=\"1\" class=\"dataframe\">\n",
       "  <thead>\n",
       "    <tr style=\"text-align: right;\">\n",
       "      <th></th>\n",
       "      <th>scientific_name</th>\n",
       "      <th>park_name</th>\n",
       "      <th>observations</th>\n",
       "      <th>category</th>\n",
       "      <th>common_names</th>\n",
       "      <th>conservation_status</th>\n",
       "    </tr>\n",
       "  </thead>\n",
       "  <tbody>\n",
       "    <tr>\n",
       "      <th>count</th>\n",
       "      <td>23296</td>\n",
       "      <td>23296</td>\n",
       "      <td>23296.000000</td>\n",
       "      <td>23296</td>\n",
       "      <td>23296</td>\n",
       "      <td>760</td>\n",
       "    </tr>\n",
       "    <tr>\n",
       "      <th>unique</th>\n",
       "      <td>5541</td>\n",
       "      <td>4</td>\n",
       "      <td>NaN</td>\n",
       "      <td>7</td>\n",
       "      <td>5229</td>\n",
       "      <td>4</td>\n",
       "    </tr>\n",
       "    <tr>\n",
       "      <th>top</th>\n",
       "      <td>Myotis lucifugus</td>\n",
       "      <td>Yellowstone National Park</td>\n",
       "      <td>NaN</td>\n",
       "      <td>Vascular Plant</td>\n",
       "      <td>Dicranum Moss</td>\n",
       "      <td>Species of Concern</td>\n",
       "    </tr>\n",
       "    <tr>\n",
       "      <th>freq</th>\n",
       "      <td>12</td>\n",
       "      <td>5824</td>\n",
       "      <td>NaN</td>\n",
       "      <td>17880</td>\n",
       "      <td>28</td>\n",
       "      <td>644</td>\n",
       "    </tr>\n",
       "    <tr>\n",
       "      <th>mean</th>\n",
       "      <td>NaN</td>\n",
       "      <td>NaN</td>\n",
       "      <td>142.287904</td>\n",
       "      <td>NaN</td>\n",
       "      <td>NaN</td>\n",
       "      <td>NaN</td>\n",
       "    </tr>\n",
       "    <tr>\n",
       "      <th>std</th>\n",
       "      <td>NaN</td>\n",
       "      <td>NaN</td>\n",
       "      <td>69.890532</td>\n",
       "      <td>NaN</td>\n",
       "      <td>NaN</td>\n",
       "      <td>NaN</td>\n",
       "    </tr>\n",
       "    <tr>\n",
       "      <th>min</th>\n",
       "      <td>NaN</td>\n",
       "      <td>NaN</td>\n",
       "      <td>9.000000</td>\n",
       "      <td>NaN</td>\n",
       "      <td>NaN</td>\n",
       "      <td>NaN</td>\n",
       "    </tr>\n",
       "    <tr>\n",
       "      <th>25%</th>\n",
       "      <td>NaN</td>\n",
       "      <td>NaN</td>\n",
       "      <td>86.000000</td>\n",
       "      <td>NaN</td>\n",
       "      <td>NaN</td>\n",
       "      <td>NaN</td>\n",
       "    </tr>\n",
       "    <tr>\n",
       "      <th>50%</th>\n",
       "      <td>NaN</td>\n",
       "      <td>NaN</td>\n",
       "      <td>124.000000</td>\n",
       "      <td>NaN</td>\n",
       "      <td>NaN</td>\n",
       "      <td>NaN</td>\n",
       "    </tr>\n",
       "    <tr>\n",
       "      <th>75%</th>\n",
       "      <td>NaN</td>\n",
       "      <td>NaN</td>\n",
       "      <td>195.000000</td>\n",
       "      <td>NaN</td>\n",
       "      <td>NaN</td>\n",
       "      <td>NaN</td>\n",
       "    </tr>\n",
       "    <tr>\n",
       "      <th>max</th>\n",
       "      <td>NaN</td>\n",
       "      <td>NaN</td>\n",
       "      <td>321.000000</td>\n",
       "      <td>NaN</td>\n",
       "      <td>NaN</td>\n",
       "      <td>NaN</td>\n",
       "    </tr>\n",
       "  </tbody>\n",
       "</table>\n",
       "</div>"
      ],
      "text/plain": [
       "         scientific_name                  park_name  observations  \\\n",
       "count              23296                      23296  23296.000000   \n",
       "unique              5541                          4           NaN   \n",
       "top     Myotis lucifugus  Yellowstone National Park           NaN   \n",
       "freq                  12                       5824           NaN   \n",
       "mean                 NaN                        NaN    142.287904   \n",
       "std                  NaN                        NaN     69.890532   \n",
       "min                  NaN                        NaN      9.000000   \n",
       "25%                  NaN                        NaN     86.000000   \n",
       "50%                  NaN                        NaN    124.000000   \n",
       "75%                  NaN                        NaN    195.000000   \n",
       "max                  NaN                        NaN    321.000000   \n",
       "\n",
       "              category   common_names conservation_status  \n",
       "count            23296          23296                 760  \n",
       "unique               7           5229                   4  \n",
       "top     Vascular Plant  Dicranum Moss  Species of Concern  \n",
       "freq             17880             28                 644  \n",
       "mean               NaN            NaN                 NaN  \n",
       "std                NaN            NaN                 NaN  \n",
       "min                NaN            NaN                 NaN  \n",
       "25%                NaN            NaN                 NaN  \n",
       "50%                NaN            NaN                 NaN  \n",
       "75%                NaN            NaN                 NaN  \n",
       "max                NaN            NaN                 NaN  "
      ]
     },
     "execution_count": 14,
     "metadata": {},
     "output_type": "execute_result"
    }
   ],
   "source": [
    "species_observation.describe(include='all')"
   ]
  },
  {
   "cell_type": "code",
   "execution_count": 15,
   "metadata": {},
   "outputs": [
    {
     "name": "stdout",
     "output_type": "stream",
     "text": [
      "<class 'pandas.core.frame.DataFrame'>\n",
      "Int64Index: 23296 entries, 0 to 23295\n",
      "Data columns (total 6 columns):\n",
      " #   Column               Non-Null Count  Dtype \n",
      "---  ------               --------------  ----- \n",
      " 0   scientific_name      23296 non-null  object\n",
      " 1   park_name            23296 non-null  object\n",
      " 2   observations         23296 non-null  int64 \n",
      " 3   category             23296 non-null  object\n",
      " 4   common_names         23296 non-null  object\n",
      " 5   conservation_status  760 non-null    object\n",
      "dtypes: int64(1), object(5)\n",
      "memory usage: 1.2+ MB\n"
     ]
    }
   ],
   "source": [
    "species_observation.info()"
   ]
  },
  {
   "cell_type": "code",
   "execution_count": 16,
   "metadata": {},
   "outputs": [
    {
     "name": "stdout",
     "output_type": "stream",
     "text": [
      "  category                scientific_name  \\\n",
      "0   Mammal  Clethrionomys gapperi gapperi   \n",
      "1   Mammal                      Bos bison   \n",
      "2   Mammal                     Bos taurus   \n",
      "3   Mammal                     Ovis aries   \n",
      "4   Mammal                 Cervus elaphus   \n",
      "\n",
      "                                        common_names conservation_status  \n",
      "0                           Gapper's Red-Backed Vole                 NaN  \n",
      "1                              American Bison, Bison                 NaN  \n",
      "2  Aurochs, Aurochs, Domestic Cattle (Feral), Dom...                 NaN  \n",
      "3  Domestic Sheep, Mouflon, Red Sheep, Sheep (Feral)                 NaN  \n",
      "4                                      Wapiti Or Elk                 NaN  \n"
     ]
    }
   ],
   "source": [
    "print(species.head())"
   ]
  },
  {
   "cell_type": "code",
   "execution_count": 17,
   "metadata": {},
   "outputs": [
    {
     "name": "stdout",
     "output_type": "stream",
     "text": [
      "            scientific_name                            park_name  observations\n",
      "0        Vicia benghalensis  Great Smoky Mountains National Park            68\n",
      "1            Neovison vison  Great Smoky Mountains National Park            77\n",
      "2         Prunus subcordata               Yosemite National Park           138\n",
      "3      Abutilon theophrasti                  Bryce National Park            84\n",
      "4  Githopsis specularioides  Great Smoky Mountains National Park            85\n"
     ]
    }
   ],
   "source": [
    "print(observations.head())"
   ]
  },
  {
   "cell_type": "code",
   "execution_count": 18,
   "metadata": {},
   "outputs": [
    {
     "name": "stdout",
     "output_type": "stream",
     "text": [
      "      scientific_name                            park_name  observations  \\\n",
      "0  Vicia benghalensis  Great Smoky Mountains National Park            68   \n",
      "1  Vicia benghalensis               Yosemite National Park           148   \n",
      "2  Vicia benghalensis            Yellowstone National Park           247   \n",
      "3  Vicia benghalensis                  Bryce National Park           104   \n",
      "4      Neovison vison  Great Smoky Mountains National Park            77   \n",
      "\n",
      "         category                        common_names conservation_status  \n",
      "0  Vascular Plant  Purple Vetch, Reddish Tufted Vetch                 NaN  \n",
      "1  Vascular Plant  Purple Vetch, Reddish Tufted Vetch                 NaN  \n",
      "2  Vascular Plant  Purple Vetch, Reddish Tufted Vetch                 NaN  \n",
      "3  Vascular Plant  Purple Vetch, Reddish Tufted Vetch                 NaN  \n",
      "4          Mammal                       American Mink                 NaN  \n"
     ]
    }
   ],
   "source": [
    "print(species_observation.head())"
   ]
  },
  {
   "cell_type": "code",
   "execution_count": 19,
   "metadata": {},
   "outputs": [],
   "source": [
    "species_observation.fillna(\"Missing Values\", inplace  = True)"
   ]
  },
  {
   "cell_type": "code",
   "execution_count": 20,
   "metadata": {},
   "outputs": [
    {
     "name": "stdout",
     "output_type": "stream",
     "text": [
      "128.22826086956522\n",
      "41.14705882352941\n",
      "70.16666666666667\n",
      "116.0\n",
      "143.1240681576145\n"
     ]
    }
   ],
   "source": [
    "print(species_observation.observations[species_observation.conservation_status == \"Species of Concern\"].mean())\n",
    "print(species_observation.observations[species_observation.conservation_status == \"Endangered\"].mean())\n",
    "print(species_observation.observations[species_observation.conservation_status == \"Threatened\"].mean())\n",
    "print(species_observation.observations[species_observation.conservation_status == \"In Recovery\"].mean())\n",
    "print(species_observation.observations[species_observation.conservation_status == \"Missing Values\"].mean())"
   ]
  },
  {
   "cell_type": "code",
   "execution_count": 21,
   "metadata": {},
   "outputs": [
    {
     "data": {
      "text/html": [
       "<div>\n",
       "<style scoped>\n",
       "    .dataframe tbody tr th:only-of-type {\n",
       "        vertical-align: middle;\n",
       "    }\n",
       "\n",
       "    .dataframe tbody tr th {\n",
       "        vertical-align: top;\n",
       "    }\n",
       "\n",
       "    .dataframe thead th {\n",
       "        text-align: right;\n",
       "    }\n",
       "</style>\n",
       "<table border=\"1\" class=\"dataframe\">\n",
       "  <thead>\n",
       "    <tr style=\"text-align: right;\">\n",
       "      <th></th>\n",
       "      <th>scientific_name</th>\n",
       "      <th>park_name</th>\n",
       "      <th>observations</th>\n",
       "      <th>category</th>\n",
       "      <th>common_names</th>\n",
       "      <th>conservation_status</th>\n",
       "    </tr>\n",
       "  </thead>\n",
       "  <tbody>\n",
       "    <tr>\n",
       "      <th>0</th>\n",
       "      <td>Vicia benghalensis</td>\n",
       "      <td>Great Smoky Mountains National Park</td>\n",
       "      <td>68</td>\n",
       "      <td>Vascular Plant</td>\n",
       "      <td>Purple Vetch, Reddish Tufted Vetch</td>\n",
       "      <td>Missing Values</td>\n",
       "    </tr>\n",
       "    <tr>\n",
       "      <th>1</th>\n",
       "      <td>Vicia benghalensis</td>\n",
       "      <td>Yosemite National Park</td>\n",
       "      <td>148</td>\n",
       "      <td>Vascular Plant</td>\n",
       "      <td>Purple Vetch, Reddish Tufted Vetch</td>\n",
       "      <td>Missing Values</td>\n",
       "    </tr>\n",
       "    <tr>\n",
       "      <th>2</th>\n",
       "      <td>Vicia benghalensis</td>\n",
       "      <td>Yellowstone National Park</td>\n",
       "      <td>247</td>\n",
       "      <td>Vascular Plant</td>\n",
       "      <td>Purple Vetch, Reddish Tufted Vetch</td>\n",
       "      <td>Missing Values</td>\n",
       "    </tr>\n",
       "    <tr>\n",
       "      <th>3</th>\n",
       "      <td>Vicia benghalensis</td>\n",
       "      <td>Bryce National Park</td>\n",
       "      <td>104</td>\n",
       "      <td>Vascular Plant</td>\n",
       "      <td>Purple Vetch, Reddish Tufted Vetch</td>\n",
       "      <td>Missing Values</td>\n",
       "    </tr>\n",
       "    <tr>\n",
       "      <th>4</th>\n",
       "      <td>Neovison vison</td>\n",
       "      <td>Great Smoky Mountains National Park</td>\n",
       "      <td>77</td>\n",
       "      <td>Mammal</td>\n",
       "      <td>American Mink</td>\n",
       "      <td>Missing Values</td>\n",
       "    </tr>\n",
       "    <tr>\n",
       "      <th>...</th>\n",
       "      <td>...</td>\n",
       "      <td>...</td>\n",
       "      <td>...</td>\n",
       "      <td>...</td>\n",
       "      <td>...</td>\n",
       "      <td>...</td>\n",
       "    </tr>\n",
       "    <tr>\n",
       "      <th>23291</th>\n",
       "      <td>Gulo gulo</td>\n",
       "      <td>Yosemite National Park</td>\n",
       "      <td>157</td>\n",
       "      <td>Mammal</td>\n",
       "      <td>Wolverine</td>\n",
       "      <td>Missing Values</td>\n",
       "    </tr>\n",
       "    <tr>\n",
       "      <th>23292</th>\n",
       "      <td>Dichanthelium depauperatum</td>\n",
       "      <td>Great Smoky Mountains National Park</td>\n",
       "      <td>88</td>\n",
       "      <td>Vascular Plant</td>\n",
       "      <td>Green Panic-Grass, Panic Grass</td>\n",
       "      <td>Missing Values</td>\n",
       "    </tr>\n",
       "    <tr>\n",
       "      <th>23293</th>\n",
       "      <td>Dichanthelium depauperatum</td>\n",
       "      <td>Bryce National Park</td>\n",
       "      <td>80</td>\n",
       "      <td>Vascular Plant</td>\n",
       "      <td>Green Panic-Grass, Panic Grass</td>\n",
       "      <td>Missing Values</td>\n",
       "    </tr>\n",
       "    <tr>\n",
       "      <th>23294</th>\n",
       "      <td>Dichanthelium depauperatum</td>\n",
       "      <td>Yellowstone National Park</td>\n",
       "      <td>255</td>\n",
       "      <td>Vascular Plant</td>\n",
       "      <td>Green Panic-Grass, Panic Grass</td>\n",
       "      <td>Missing Values</td>\n",
       "    </tr>\n",
       "    <tr>\n",
       "      <th>23295</th>\n",
       "      <td>Dichanthelium depauperatum</td>\n",
       "      <td>Yosemite National Park</td>\n",
       "      <td>162</td>\n",
       "      <td>Vascular Plant</td>\n",
       "      <td>Green Panic-Grass, Panic Grass</td>\n",
       "      <td>Missing Values</td>\n",
       "    </tr>\n",
       "  </tbody>\n",
       "</table>\n",
       "<p>23296 rows × 6 columns</p>\n",
       "</div>"
      ],
      "text/plain": [
       "                  scientific_name                            park_name  \\\n",
       "0              Vicia benghalensis  Great Smoky Mountains National Park   \n",
       "1              Vicia benghalensis               Yosemite National Park   \n",
       "2              Vicia benghalensis            Yellowstone National Park   \n",
       "3              Vicia benghalensis                  Bryce National Park   \n",
       "4                  Neovison vison  Great Smoky Mountains National Park   \n",
       "...                           ...                                  ...   \n",
       "23291                   Gulo gulo               Yosemite National Park   \n",
       "23292  Dichanthelium depauperatum  Great Smoky Mountains National Park   \n",
       "23293  Dichanthelium depauperatum                  Bryce National Park   \n",
       "23294  Dichanthelium depauperatum            Yellowstone National Park   \n",
       "23295  Dichanthelium depauperatum               Yosemite National Park   \n",
       "\n",
       "       observations        category                        common_names  \\\n",
       "0                68  Vascular Plant  Purple Vetch, Reddish Tufted Vetch   \n",
       "1               148  Vascular Plant  Purple Vetch, Reddish Tufted Vetch   \n",
       "2               247  Vascular Plant  Purple Vetch, Reddish Tufted Vetch   \n",
       "3               104  Vascular Plant  Purple Vetch, Reddish Tufted Vetch   \n",
       "4                77          Mammal                       American Mink   \n",
       "...             ...             ...                                 ...   \n",
       "23291           157          Mammal                           Wolverine   \n",
       "23292            88  Vascular Plant      Green Panic-Grass, Panic Grass   \n",
       "23293            80  Vascular Plant      Green Panic-Grass, Panic Grass   \n",
       "23294           255  Vascular Plant      Green Panic-Grass, Panic Grass   \n",
       "23295           162  Vascular Plant      Green Panic-Grass, Panic Grass   \n",
       "\n",
       "      conservation_status  \n",
       "0          Missing Values  \n",
       "1          Missing Values  \n",
       "2          Missing Values  \n",
       "3          Missing Values  \n",
       "4          Missing Values  \n",
       "...                   ...  \n",
       "23291      Missing Values  \n",
       "23292      Missing Values  \n",
       "23293      Missing Values  \n",
       "23294      Missing Values  \n",
       "23295      Missing Values  \n",
       "\n",
       "[23296 rows x 6 columns]"
      ]
     },
     "execution_count": 21,
     "metadata": {},
     "output_type": "execute_result"
    }
   ],
   "source": [
    "species_observation"
   ]
  },
  {
   "cell_type": "code",
   "execution_count": 22,
   "metadata": {},
   "outputs": [
    {
     "name": "stdout",
     "output_type": "stream",
     "text": [
      "  conservation_status  observations\n",
      "2      Missing Values    143.124068\n",
      "3  Species of Concern    128.228261\n",
      "1         In Recovery    116.000000\n",
      "4          Threatened     70.166667\n",
      "0          Endangered     41.147059\n"
     ]
    }
   ],
   "source": [
    "sortedindex = species_observation.groupby([\"conservation_status\"]).mean().reset_index()\n",
    "order_mean =(sortedindex.sort_values(by=\"observations\", ascending=False))\n",
    "print(order_mean)"
   ]
  },
  {
   "cell_type": "code",
   "execution_count": 23,
   "metadata": {},
   "outputs": [
    {
     "data": {
      "image/png": "[encoded data removed]",
      "text/plain": [
       "<Figure size 576x576 with 1 Axes>"
      ]
     },
     "metadata": {
      "needs_background": "light"
     },
     "output_type": "display_data"
    }
   ],
   "source": [
    "fig, ax = plt.subplots(figsize = (8,8))\n",
    "sns.barplot(data = species_observation, x = \"conservation_status\", y = \"observations\", order = order_mean.conservation_status)\n",
    "ax.set(ylabel = \"Mean Observations\", xlabel = \"Conservation Status\")\n",
    "ax.set_title(\"Average population of wildlife by Conservation Status\")\n",
    "plt.show()"
   ]
  },
  {
   "cell_type": "code",
   "execution_count": 24,
   "metadata": {},
   "outputs": [
    {
     "name": "stdout",
     "output_type": "stream",
     "text": [
      "82579\n",
      "2798\n",
      "2526\n",
      "1392\n",
      "3225444\n"
     ]
    }
   ],
   "source": [
    "print(species_observation.observations[species_observation.conservation_status == \"Species of Concern\"].sum())\n",
    "print(species_observation.observations[species_observation.conservation_status == \"Endangered\"].sum())\n",
    "print(species_observation.observations[species_observation.conservation_status == \"Threatened\"].sum())\n",
    "print(species_observation.observations[species_observation.conservation_status == \"In Recovery\"].sum())\n",
    "print(species_observation.observations[species_observation.conservation_status == \"Missing Values\"].sum())"
   ]
  },
  {
   "cell_type": "code",
   "execution_count": 25,
   "metadata": {},
   "outputs": [],
   "source": [
    "Concern = (species_observation.observations[species_observation.conservation_status == \"Species of Concern\"].sum())\n",
    "Endangered = (species_observation.observations[species_observation.conservation_status == \"Endangered\"].sum())\n",
    "Threatened = (species_observation.observations[species_observation.conservation_status == \"Threatened\"].sum())\n",
    "Recovering = (species_observation.observations[species_observation.conservation_status == \"In Recovery\"].sum())\n",
    "Missing = (species_observation.observations[species_observation.conservation_status == \"Missing Values\"].sum())\n",
    "numbers = [Concern, Endangered, Threatened, Recovering, Missing]"
   ]
  },
  {
   "cell_type": "code",
   "execution_count": 26,
   "metadata": {},
   "outputs": [
    {
     "name": "stdout",
     "output_type": "stream",
     "text": [
      "[82579, 2798, 2526, 1392, 3225444]\n"
     ]
    }
   ],
   "source": [
    "print(numbers)"
   ]
  },
  {
   "cell_type": "code",
   "execution_count": 60,
   "metadata": {},
   "outputs": [
    {
     "data": {
      "image/png": "[encoded data removed]",
      "text/plain": [
       "<Figure size 576x576 with 1 Axes>"
      ]
     },
     "metadata": {
      "needs_background": "light"
     },
     "output_type": "display_data"
    }
   ],
   "source": [
    "fig, ax = plt.subplots(figsize = (8,8))\n",
    "sns.barplot(x = [0,1,2,3,4], y = numbers)\n",
    "ax.set(ylabel = \"Total Observations\", xlabel = \"Conservation Status\")\n",
    "ax.set_xticklabels([\"Concern\", \"Endangered\", \"Threatened\", \"Recovering\", \"Missing Values\"])\n",
    "plt.show()"
   ]
  },
  {
   "cell_type": "markdown",
   "metadata": {},
   "source": [
    "The missing data has both a higher average number of counts, and a much higher total number of counts. This suggests that, as hypothesized, the missing data represents the animals with the least concern over conservation"
   ]
  },
  {
   "cell_type": "code",
   "execution_count": 28,
   "metadata": {},
   "outputs": [],
   "source": [
    "species_observation = species_observation.replace(\"Missing Values\", \"Least Concern\")"
   ]
  },
  {
   "cell_type": "code",
   "execution_count": 29,
   "metadata": {},
   "outputs": [
    {
     "name": "stdout",
     "output_type": "stream",
     "text": [
      "0        Least Concern\n",
      "1        Least Concern\n",
      "2        Least Concern\n",
      "3        Least Concern\n",
      "4        Least Concern\n",
      "             ...      \n",
      "23291    Least Concern\n",
      "23292    Least Concern\n",
      "23293    Least Concern\n",
      "23294    Least Concern\n",
      "23295    Least Concern\n",
      "Name: conservation_status, Length: 23296, dtype: object\n"
     ]
    }
   ],
   "source": [
    "print(species_observation.conservation_status)"
   ]
  },
  {
   "cell_type": "code",
   "execution_count": 30,
   "metadata": {},
   "outputs": [
    {
     "name": "stdout",
     "output_type": "stream",
     "text": [
      "Index(['scientific_name', 'park_name', 'observations', 'category',\n",
      "       'common_names', 'conservation_status'],\n",
      "      dtype='object')\n"
     ]
    }
   ],
   "source": [
    "print(species_observation.columns)"
   ]
  },
  {
   "cell_type": "code",
   "execution_count": 31,
   "metadata": {},
   "outputs": [
    {
     "name": "stdout",
     "output_type": "stream",
     "text": [
      "Yellowstone National Park              5824\n",
      "Yosemite National Park                 5824\n",
      "Great Smoky Mountains National Park    5824\n",
      "Bryce National Park                    5824\n",
      "Name: park_name, dtype: int64\n"
     ]
    }
   ],
   "source": [
    "print(species_observation.park_name.value_counts())"
   ]
  },
  {
   "cell_type": "code",
   "execution_count": 32,
   "metadata": {},
   "outputs": [
    {
     "data": {
      "text/html": [
       "<div>\n",
       "<style scoped>\n",
       "    .dataframe tbody tr th:only-of-type {\n",
       "        vertical-align: middle;\n",
       "    }\n",
       "\n",
       "    .dataframe tbody tr th {\n",
       "        vertical-align: top;\n",
       "    }\n",
       "\n",
       "    .dataframe thead th {\n",
       "        text-align: right;\n",
       "    }\n",
       "</style>\n",
       "<table border=\"1\" class=\"dataframe\">\n",
       "  <thead>\n",
       "    <tr style=\"text-align: right;\">\n",
       "      <th>park_name</th>\n",
       "      <th>Bryce National Park</th>\n",
       "      <th>Great Smoky Mountains National Park</th>\n",
       "      <th>Yellowstone National Park</th>\n",
       "      <th>Yosemite National Park</th>\n",
       "    </tr>\n",
       "  </thead>\n",
       "  <tbody>\n",
       "    <tr>\n",
       "      <th>count</th>\n",
       "      <td>7.00</td>\n",
       "      <td>7.00</td>\n",
       "      <td>7.00</td>\n",
       "      <td>7.00</td>\n",
       "    </tr>\n",
       "    <tr>\n",
       "      <th>mean</th>\n",
       "      <td>82289.29</td>\n",
       "      <td>61688.57</td>\n",
       "      <td>206223.14</td>\n",
       "      <td>123333.14</td>\n",
       "    </tr>\n",
       "    <tr>\n",
       "      <th>std</th>\n",
       "      <td>159881.23</td>\n",
       "      <td>120471.03</td>\n",
       "      <td>401719.45</td>\n",
       "      <td>240200.11</td>\n",
       "    </tr>\n",
       "    <tr>\n",
       "      <th>min</th>\n",
       "      <td>7380.00</td>\n",
       "      <td>5691.00</td>\n",
       "      <td>19440.00</td>\n",
       "      <td>11444.00</td>\n",
       "    </tr>\n",
       "    <tr>\n",
       "      <th>25%</th>\n",
       "      <td>10186.50</td>\n",
       "      <td>7456.50</td>\n",
       "      <td>25064.00</td>\n",
       "      <td>15049.00</td>\n",
       "    </tr>\n",
       "    <tr>\n",
       "      <th>50%</th>\n",
       "      <td>20550.00</td>\n",
       "      <td>15012.00</td>\n",
       "      <td>50795.00</td>\n",
       "      <td>30339.00</td>\n",
       "    </tr>\n",
       "    <tr>\n",
       "      <th>75%</th>\n",
       "      <td>42319.50</td>\n",
       "      <td>31292.50</td>\n",
       "      <td>105136.00</td>\n",
       "      <td>62995.00</td>\n",
       "    </tr>\n",
       "    <tr>\n",
       "      <th>max</th>\n",
       "      <td>443083.00</td>\n",
       "      <td>333619.00</td>\n",
       "      <td>1112927.00</td>\n",
       "      <td>665461.00</td>\n",
       "    </tr>\n",
       "  </tbody>\n",
       "</table>\n",
       "</div>"
      ],
      "text/plain": [
       "park_name  Bryce National Park  Great Smoky Mountains National Park  \\\n",
       "count                     7.00                                 7.00   \n",
       "mean                  82289.29                             61688.57   \n",
       "std                  159881.23                            120471.03   \n",
       "min                    7380.00                              5691.00   \n",
       "25%                   10186.50                              7456.50   \n",
       "50%                   20550.00                             15012.00   \n",
       "75%                   42319.50                             31292.50   \n",
       "max                  443083.00                            333619.00   \n",
       "\n",
       "park_name  Yellowstone National Park  Yosemite National Park  \n",
       "count                           7.00                    7.00  \n",
       "mean                       206223.14               123333.14  \n",
       "std                        401719.45               240200.11  \n",
       "min                         19440.00                11444.00  \n",
       "25%                         25064.00                15049.00  \n",
       "50%                         50795.00                30339.00  \n",
       "75%                        105136.00                62995.00  \n",
       "max                       1112927.00               665461.00  "
      ]
     },
     "execution_count": 32,
     "metadata": {},
     "output_type": "execute_result"
    }
   ],
   "source": [
    "park_class = species_observation.groupby([\"park_name\", \"category\"]).sum().reset_index()\n",
    "parkdist = pd.pivot_table(park_class, index = \"category\", values=\"observations\", columns = \"park_name\")\n",
    "parkdist.describe().apply(lambda x: x.round(2))"
   ]
  },
  {
   "cell_type": "code",
   "execution_count": 33,
   "metadata": {},
   "outputs": [
    {
     "data": {
      "text/html": [
       "<div>\n",
       "<style scoped>\n",
       "    .dataframe tbody tr th:only-of-type {\n",
       "        vertical-align: middle;\n",
       "    }\n",
       "\n",
       "    .dataframe tbody tr th {\n",
       "        vertical-align: top;\n",
       "    }\n",
       "\n",
       "    .dataframe thead th {\n",
       "        text-align: right;\n",
       "    }\n",
       "</style>\n",
       "<table border=\"1\" class=\"dataframe\">\n",
       "  <thead>\n",
       "    <tr style=\"text-align: right;\">\n",
       "      <th>category</th>\n",
       "      <th>Amphibian</th>\n",
       "      <th>Bird</th>\n",
       "      <th>Fish</th>\n",
       "      <th>Mammal</th>\n",
       "      <th>Nonvascular Plant</th>\n",
       "      <th>Reptile</th>\n",
       "      <th>Vascular Plant</th>\n",
       "    </tr>\n",
       "  </thead>\n",
       "  <tbody>\n",
       "    <tr>\n",
       "      <th>count</th>\n",
       "      <td>4.00</td>\n",
       "      <td>4.00</td>\n",
       "      <td>4.00</td>\n",
       "      <td>4.00</td>\n",
       "      <td>4.00</td>\n",
       "      <td>4.00</td>\n",
       "      <td>4.00</td>\n",
       "    </tr>\n",
       "    <tr>\n",
       "      <th>mean</th>\n",
       "      <td>10992.75</td>\n",
       "      <td>73208.25</td>\n",
       "      <td>17704.50</td>\n",
       "      <td>29174.00</td>\n",
       "      <td>47663.25</td>\n",
       "      <td>11169.50</td>\n",
       "      <td>638772.50</td>\n",
       "    </tr>\n",
       "    <tr>\n",
       "      <th>std</th>\n",
       "      <td>6125.11</td>\n",
       "      <td>39384.21</td>\n",
       "      <td>9426.41</td>\n",
       "      <td>15745.48</td>\n",
       "      <td>25755.48</td>\n",
       "      <td>6076.66</td>\n",
       "      <td>344938.55</td>\n",
       "    </tr>\n",
       "    <tr>\n",
       "      <th>min</th>\n",
       "      <td>5707.00</td>\n",
       "      <td>37728.00</td>\n",
       "      <td>9206.00</td>\n",
       "      <td>15012.00</td>\n",
       "      <td>24857.00</td>\n",
       "      <td>5691.00</td>\n",
       "      <td>333619.00</td>\n",
       "    </tr>\n",
       "    <tr>\n",
       "      <th>25%</th>\n",
       "      <td>6961.75</td>\n",
       "      <td>48167.25</td>\n",
       "      <td>11618.75</td>\n",
       "      <td>19165.50</td>\n",
       "      <td>30958.25</td>\n",
       "      <td>7385.25</td>\n",
       "      <td>415717.00</td>\n",
       "    </tr>\n",
       "    <tr>\n",
       "      <th>50%</th>\n",
       "      <td>9412.00</td>\n",
       "      <td>63927.00</td>\n",
       "      <td>15519.00</td>\n",
       "      <td>25444.50</td>\n",
       "      <td>41387.50</td>\n",
       "      <td>9716.50</td>\n",
       "      <td>554272.00</td>\n",
       "    </tr>\n",
       "    <tr>\n",
       "      <th>75%</th>\n",
       "      <td>13443.00</td>\n",
       "      <td>88968.00</td>\n",
       "      <td>21604.75</td>\n",
       "      <td>35453.00</td>\n",
       "      <td>58092.50</td>\n",
       "      <td>13500.75</td>\n",
       "      <td>777327.50</td>\n",
       "    </tr>\n",
       "    <tr>\n",
       "      <th>max</th>\n",
       "      <td>19440.00</td>\n",
       "      <td>127251.00</td>\n",
       "      <td>30574.00</td>\n",
       "      <td>50795.00</td>\n",
       "      <td>83021.00</td>\n",
       "      <td>19554.00</td>\n",
       "      <td>1112927.00</td>\n",
       "    </tr>\n",
       "  </tbody>\n",
       "</table>\n",
       "</div>"
      ],
      "text/plain": [
       "category  Amphibian       Bird      Fish    Mammal  Nonvascular Plant  \\\n",
       "count          4.00       4.00      4.00      4.00               4.00   \n",
       "mean       10992.75   73208.25  17704.50  29174.00           47663.25   \n",
       "std         6125.11   39384.21   9426.41  15745.48           25755.48   \n",
       "min         5707.00   37728.00   9206.00  15012.00           24857.00   \n",
       "25%         6961.75   48167.25  11618.75  19165.50           30958.25   \n",
       "50%         9412.00   63927.00  15519.00  25444.50           41387.50   \n",
       "75%        13443.00   88968.00  21604.75  35453.00           58092.50   \n",
       "max        19440.00  127251.00  30574.00  50795.00           83021.00   \n",
       "\n",
       "category   Reptile  Vascular Plant  \n",
       "count         4.00            4.00  \n",
       "mean      11169.50       638772.50  \n",
       "std        6076.66       344938.55  \n",
       "min        5691.00       333619.00  \n",
       "25%        7385.25       415717.00  \n",
       "50%        9716.50       554272.00  \n",
       "75%       13500.75       777327.50  \n",
       "max       19554.00      1112927.00  "
      ]
     },
     "execution_count": 33,
     "metadata": {},
     "output_type": "execute_result"
    }
   ],
   "source": [
    "classdist = pd.pivot_table(park_class, index = \"park_name\", values=\"observations\", columns=\"category\")\n",
    "classdist.describe().apply(lambda x: x.round(2))"
   ]
  },
  {
   "cell_type": "code",
   "execution_count": 34,
   "metadata": {},
   "outputs": [
    {
     "data": {
      "image/png": "[encoded data removed]",
      "text/plain": [
       "<Figure size 720x720 with 1 Axes>"
      ]
     },
     "metadata": {
      "needs_background": "light"
     },
     "output_type": "display_data"
    }
   ],
   "source": [
    "fig, ax = plt.subplots(figsize = (10,10))\n",
    "order=park_class.groupby(\"park_name\").sum().sort_values(ascending=False, by=\"observations\").index\n",
    "sns.barplot(x = park_class.category, y = park_class.observations, hue = park_class.park_name, hue_order = order)\n",
    "ax.set_xlabel(\"Biological Class\", fontsize = \"large\")\n",
    "ax.set_ylabel(\"Observations (millions)\", fontsize = \"large\")\n",
    "ytickrange = range(0, 12*10**5, 1*10**5)\n",
    "ax.set_yticks(ytickrange)\n",
    "ax.set_yticklabels([0.0, 0.1, 0.2, 0.3, 0.4, 0.5, 0.6, 0.7, 0.8, 0.9, 1.0, 1.1])\n",
    "plt.title(\"Observations of each class in each national park\", fontsize = \"large\")\n",
    "plt.legend()\n",
    "plt.tight_layout()\n",
    "plt.show()"
   ]
  },
  {
   "cell_type": "code",
   "execution_count": 35,
   "metadata": {},
   "outputs": [
    {
     "name": "stdout",
     "output_type": "stream",
     "text": [
      "Total observations = 3314739\n",
      "3314739\n"
     ]
    }
   ],
   "source": [
    "#Checking that the processing has conserved the total number of observations\n",
    "print(\"Total observations = {}\".format(observations.observations.sum()))\n",
    "print(park_class.observations.sum())"
   ]
  },
  {
   "cell_type": "markdown",
   "metadata": {},
   "source": [
    "So we can see that Yellowstone has the most of each Biological Class, followed by Yosemite, Bryce, and Great Smoky Mountains National Parks respectively. Vascular plants completely dominate the other biological classes in terms of observations."
   ]
  },
  {
   "cell_type": "code",
   "execution_count": 36,
   "metadata": {},
   "outputs": [
    {
     "data": {
      "image/png": "[encoded data removed]",
      "text/plain": [
       "<Figure size 720x720 with 1 Axes>"
      ]
     },
     "metadata": {
      "needs_background": "light"
     },
     "output_type": "display_data"
    }
   ],
   "source": [
    "no_vasplant = species_observation[species_observation.category!=\"Vascular Plant\"].groupby([\"park_name\", \"category\"]).sum().reset_index()\n",
    "fig, ax = plt.subplots(figsize = (10,10))\n",
    "order=no_vasplant.groupby(\"park_name\").sum().sort_values(ascending=False, by=\"observations\").index\n",
    "sns.barplot(x = no_vasplant.category, y = no_vasplant.observations, hue = no_vasplant.park_name, hue_order = order)\n",
    "ax.set_xlabel(\"Biological Class\", fontsize = \"large\")\n",
    "ax.set_ylabel(\"Observations\", fontsize = \"large\")\n",
    "ytickrange = range(0, 2*10**5, 1*10**4)\n",
    "#ax.set_yticks(ytickrange)\n",
    "#ax.set_yticklabels([0.0, 0.1, 0.2, 0.3, 0.4, 0.5, 0.6, 0.7, 0.8, 0.9, 1.0, 1.1])\n",
    "plt.title(\"Observations of each class, excluding vascular plants, in National Parks\", fontsize = \"large\")\n",
    "plt.legend()\n",
    "plt.tight_layout()\n",
    "plt.show()"
   ]
  },
  {
   "cell_type": "markdown",
   "metadata": {},
   "source": [
    "After Vascular Plant, Bird, Nonvascular Plant, Mammal, Fish, and Reptile/Amphibian are the respective most common classes."
   ]
  },
  {
   "cell_type": "code",
   "execution_count": 37,
   "metadata": {},
   "outputs": [
    {
     "data": {
      "image/png": "[encoded data removed]",
      "text/plain": [
       "<Figure size 720x720 with 1 Axes>"
      ]
     },
     "metadata": {
      "needs_background": "light"
     },
     "output_type": "display_data"
    }
   ],
   "source": [
    "fig, ax = plt.subplots(figsize = (10,10))\n",
    "data = park_class[park_class.category.isin([\"Amphibian\", \"Reptile\"])]\n",
    "order=data.groupby(\"park_name\").sum().sort_values(ascending=False, by=\"observations\").index\n",
    "sns.barplot(x = data.category, y = data.observations, hue = data.park_name, hue_order = order)\n",
    "ax.set_xlabel(\"Biological Class\", fontsize = \"large\")\n",
    "ax.set_ylabel(\"Observations\", fontsize = \"large\")\n",
    "ytickrange = range(0, 12*10**5, 1*10**5)\n",
    "#ax.set_yticks(ytickrange)\n",
    "#ax.set_yticklabels([0.0, 0.1, 0.2, 0.3, 0.4, 0.5, 0.6, 0.7, 0.8, 0.9, 1.0, 1.1])\n",
    "plt.title(\"Observations of Amphibians and Reptiles in each national park\", fontsize = \"large\")\n",
    "plt.legend()\n",
    "plt.tight_layout()\n",
    "plt.show()"
   ]
  },
  {
   "cell_type": "markdown",
   "metadata": {},
   "source": [
    "The number of amphibians and reptiles are virtually the same!"
   ]
  },
  {
   "cell_type": "code",
   "execution_count": 38,
   "metadata": {},
   "outputs": [
    {
     "data": {
      "image/png": "[encoded data removed]",
      "text/plain": [
       "<Figure size 720x720 with 1 Axes>"
      ]
     },
     "metadata": {
      "needs_background": "light"
     },
     "output_type": "display_data"
    }
   ],
   "source": [
    "parkdist.sum().sort_values(ascending=False).plot.bar(figsize = (10,10), color = sns.color_palette(n_colors=4), width = 1, rot = 0)\n",
    "ticks, labels = plt.xticks()\n",
    "plt.xticks(labels = [\"Yellowstone\", \"Yosemite\", \"Bryce\", \"Great Smoky Mountains\"], ticks = ticks)\n",
    "plt.yticks(ticks = range(0,15*10**5, 2*10**5), labels = [tick/10**6 for tick in range(0,15*10**5, 2*10**5)])\n",
    "plt.xlabel(\"National Park\", fontsize = \"large\")\n",
    "plt.ylabel(\"Total Observations (Millions)\", fontsize = \"large\")\n",
    "plt.title(\"Animals observed in each national park\")\n",
    "plt.tight_layout()\n",
    "plt.show()"
   ]
  },
  {
   "cell_type": "code",
   "execution_count": 39,
   "metadata": {},
   "outputs": [
    {
     "data": {
      "text/plain": [
       "Index(['park_name', 'category', 'observations'], dtype='object')"
      ]
     },
     "execution_count": 39,
     "metadata": {},
     "output_type": "execute_result"
    }
   ],
   "source": [
    "park_class.columns"
   ]
  },
  {
   "cell_type": "code",
   "execution_count": 40,
   "metadata": {},
   "outputs": [],
   "source": [
    "yellowunique = observations.scientific_name[observations.park_name == \"Yellowstone National Park\"].nunique()\n",
    "yoseunique = observations.scientific_name[observations.park_name == \"Yosemite National Park\"].nunique()\n",
    "bryceunique = observations.scientific_name[observations.park_name == \"Bryce National Park\"].nunique()\n",
    "gsmunique = observations.scientific_name[observations.park_name == \"Great Smoky Mountains National Park\"].nunique()"
   ]
  },
  {
   "cell_type": "code",
   "execution_count": 41,
   "metadata": {},
   "outputs": [
    {
     "name": "stdout",
     "output_type": "stream",
     "text": [
      "5541\n",
      "5541\n",
      "5541\n",
      "5541\n"
     ]
    }
   ],
   "source": [
    "print(yellowunique)\n",
    "print(yoseunique)\n",
    "print(bryceunique)\n",
    "print(gsmunique)"
   ]
  },
  {
   "cell_type": "code",
   "execution_count": 42,
   "metadata": {},
   "outputs": [
    {
     "data": {
      "image/png": "[encoded data removed]",
      "text/plain": [
       "<Figure size 720x720 with 1 Axes>"
      ]
     },
     "metadata": {
      "needs_background": "light"
     },
     "output_type": "display_data"
    }
   ],
   "source": [
    "fig, ax = plt.subplots(figsize = (10,10))\n",
    "sns.barplot(y = [yellowunique, yoseunique, bryceunique, gsmunique], x = [0,1,2,3])\n",
    "ax.set_xticklabels([\"Yellowstone\", \"Yosemite\", \"Bryce\", \"Great Smoky Mountains\"])\n",
    "ax.set_ylabel(\"Unique Species\")\n",
    "plt.title(\"Unique species of wildlife in each National Park\")\n",
    "plt.tight_layout()\n",
    "plt.show()"
   ]
  },
  {
   "cell_type": "markdown",
   "metadata": {},
   "source": [
    "So each species can be found in each national park!"
   ]
  },
  {
   "cell_type": "code",
   "execution_count": 43,
   "metadata": {},
   "outputs": [
    {
     "data": {
      "text/html": [
       "<div>\n",
       "<style scoped>\n",
       "    .dataframe tbody tr th:only-of-type {\n",
       "        vertical-align: middle;\n",
       "    }\n",
       "\n",
       "    .dataframe tbody tr th {\n",
       "        vertical-align: top;\n",
       "    }\n",
       "\n",
       "    .dataframe thead th {\n",
       "        text-align: right;\n",
       "    }\n",
       "</style>\n",
       "<table border=\"1\" class=\"dataframe\">\n",
       "  <thead>\n",
       "    <tr style=\"text-align: right;\">\n",
       "      <th></th>\n",
       "      <th>scientific_name</th>\n",
       "      <th>park_name</th>\n",
       "      <th>observations</th>\n",
       "      <th>category</th>\n",
       "      <th>common_names</th>\n",
       "      <th>conservation_status</th>\n",
       "    </tr>\n",
       "  </thead>\n",
       "  <tbody>\n",
       "    <tr>\n",
       "      <th>0</th>\n",
       "      <td>Vicia benghalensis</td>\n",
       "      <td>Great Smoky Mountains National Park</td>\n",
       "      <td>68</td>\n",
       "      <td>Vascular Plant</td>\n",
       "      <td>Purple Vetch, Reddish Tufted Vetch</td>\n",
       "      <td>Least Concern</td>\n",
       "    </tr>\n",
       "    <tr>\n",
       "      <th>1</th>\n",
       "      <td>Vicia benghalensis</td>\n",
       "      <td>Yosemite National Park</td>\n",
       "      <td>148</td>\n",
       "      <td>Vascular Plant</td>\n",
       "      <td>Purple Vetch, Reddish Tufted Vetch</td>\n",
       "      <td>Least Concern</td>\n",
       "    </tr>\n",
       "    <tr>\n",
       "      <th>2</th>\n",
       "      <td>Vicia benghalensis</td>\n",
       "      <td>Yellowstone National Park</td>\n",
       "      <td>247</td>\n",
       "      <td>Vascular Plant</td>\n",
       "      <td>Purple Vetch, Reddish Tufted Vetch</td>\n",
       "      <td>Least Concern</td>\n",
       "    </tr>\n",
       "    <tr>\n",
       "      <th>3</th>\n",
       "      <td>Vicia benghalensis</td>\n",
       "      <td>Bryce National Park</td>\n",
       "      <td>104</td>\n",
       "      <td>Vascular Plant</td>\n",
       "      <td>Purple Vetch, Reddish Tufted Vetch</td>\n",
       "      <td>Least Concern</td>\n",
       "    </tr>\n",
       "    <tr>\n",
       "      <th>4</th>\n",
       "      <td>Neovison vison</td>\n",
       "      <td>Great Smoky Mountains National Park</td>\n",
       "      <td>77</td>\n",
       "      <td>Mammal</td>\n",
       "      <td>American Mink</td>\n",
       "      <td>Least Concern</td>\n",
       "    </tr>\n",
       "  </tbody>\n",
       "</table>\n",
       "</div>"
      ],
      "text/plain": [
       "      scientific_name                            park_name  observations  \\\n",
       "0  Vicia benghalensis  Great Smoky Mountains National Park            68   \n",
       "1  Vicia benghalensis               Yosemite National Park           148   \n",
       "2  Vicia benghalensis            Yellowstone National Park           247   \n",
       "3  Vicia benghalensis                  Bryce National Park           104   \n",
       "4      Neovison vison  Great Smoky Mountains National Park            77   \n",
       "\n",
       "         category                        common_names conservation_status  \n",
       "0  Vascular Plant  Purple Vetch, Reddish Tufted Vetch       Least Concern  \n",
       "1  Vascular Plant  Purple Vetch, Reddish Tufted Vetch       Least Concern  \n",
       "2  Vascular Plant  Purple Vetch, Reddish Tufted Vetch       Least Concern  \n",
       "3  Vascular Plant  Purple Vetch, Reddish Tufted Vetch       Least Concern  \n",
       "4          Mammal                       American Mink       Least Concern  "
      ]
     },
     "execution_count": 43,
     "metadata": {},
     "output_type": "execute_result"
    }
   ],
   "source": [
    "species_observation.head()"
   ]
  },
  {
   "cell_type": "code",
   "execution_count": 44,
   "metadata": {},
   "outputs": [
    {
     "name": "stdout",
     "output_type": "stream",
     "text": [
      "['Least Concern' 'Species of Concern' 'Endangered' 'Threatened'\n",
      " 'In Recovery']\n"
     ]
    }
   ],
   "source": [
    "print(species_observation.conservation_status.unique())"
   ]
  },
  {
   "cell_type": "code",
   "execution_count": 45,
   "metadata": {},
   "outputs": [],
   "source": [
    "park_cons = species_observation.groupby([\"park_name\", \"conservation_status\"]).sum(numeric_only=True).reset_index()"
   ]
  },
  {
   "cell_type": "code",
   "execution_count": 46,
   "metadata": {},
   "outputs": [
    {
     "data": {
      "text/html": [
       "<div>\n",
       "<style scoped>\n",
       "    .dataframe tbody tr th:only-of-type {\n",
       "        vertical-align: middle;\n",
       "    }\n",
       "\n",
       "    .dataframe tbody tr th {\n",
       "        vertical-align: top;\n",
       "    }\n",
       "\n",
       "    .dataframe thead th {\n",
       "        text-align: right;\n",
       "    }\n",
       "</style>\n",
       "<table border=\"1\" class=\"dataframe\">\n",
       "  <thead>\n",
       "    <tr style=\"text-align: right;\">\n",
       "      <th></th>\n",
       "      <th>park_name</th>\n",
       "      <th>conservation_status</th>\n",
       "      <th>observations</th>\n",
       "    </tr>\n",
       "  </thead>\n",
       "  <tbody>\n",
       "    <tr>\n",
       "      <th>0</th>\n",
       "      <td>Bryce National Park</td>\n",
       "      <td>Endangered</td>\n",
       "      <td>489</td>\n",
       "    </tr>\n",
       "    <tr>\n",
       "      <th>1</th>\n",
       "      <td>Bryce National Park</td>\n",
       "      <td>In Recovery</td>\n",
       "      <td>258</td>\n",
       "    </tr>\n",
       "    <tr>\n",
       "      <th>2</th>\n",
       "      <td>Bryce National Park</td>\n",
       "      <td>Least Concern</td>\n",
       "      <td>559926</td>\n",
       "    </tr>\n",
       "    <tr>\n",
       "      <th>3</th>\n",
       "      <td>Bryce National Park</td>\n",
       "      <td>Species of Concern</td>\n",
       "      <td>14925</td>\n",
       "    </tr>\n",
       "    <tr>\n",
       "      <th>4</th>\n",
       "      <td>Bryce National Park</td>\n",
       "      <td>Threatened</td>\n",
       "      <td>427</td>\n",
       "    </tr>\n",
       "    <tr>\n",
       "      <th>5</th>\n",
       "      <td>Great Smoky Mountains National Park</td>\n",
       "      <td>Endangered</td>\n",
       "      <td>334</td>\n",
       "    </tr>\n",
       "    <tr>\n",
       "      <th>6</th>\n",
       "      <td>Great Smoky Mountains National Park</td>\n",
       "      <td>In Recovery</td>\n",
       "      <td>189</td>\n",
       "    </tr>\n",
       "    <tr>\n",
       "      <th>7</th>\n",
       "      <td>Great Smoky Mountains National Park</td>\n",
       "      <td>Least Concern</td>\n",
       "      <td>420643</td>\n",
       "    </tr>\n",
       "    <tr>\n",
       "      <th>8</th>\n",
       "      <td>Great Smoky Mountains National Park</td>\n",
       "      <td>Species of Concern</td>\n",
       "      <td>10314</td>\n",
       "    </tr>\n",
       "    <tr>\n",
       "      <th>9</th>\n",
       "      <td>Great Smoky Mountains National Park</td>\n",
       "      <td>Threatened</td>\n",
       "      <td>340</td>\n",
       "    </tr>\n",
       "    <tr>\n",
       "      <th>10</th>\n",
       "      <td>Yellowstone National Park</td>\n",
       "      <td>Endangered</td>\n",
       "      <td>1228</td>\n",
       "    </tr>\n",
       "    <tr>\n",
       "      <th>11</th>\n",
       "      <td>Yellowstone National Park</td>\n",
       "      <td>In Recovery</td>\n",
       "      <td>559</td>\n",
       "    </tr>\n",
       "    <tr>\n",
       "      <th>12</th>\n",
       "      <td>Yellowstone National Park</td>\n",
       "      <td>Least Concern</td>\n",
       "      <td>1404899</td>\n",
       "    </tr>\n",
       "    <tr>\n",
       "      <th>13</th>\n",
       "      <td>Yellowstone National Park</td>\n",
       "      <td>Species of Concern</td>\n",
       "      <td>35789</td>\n",
       "    </tr>\n",
       "    <tr>\n",
       "      <th>14</th>\n",
       "      <td>Yellowstone National Park</td>\n",
       "      <td>Threatened</td>\n",
       "      <td>1087</td>\n",
       "    </tr>\n",
       "    <tr>\n",
       "      <th>15</th>\n",
       "      <td>Yosemite National Park</td>\n",
       "      <td>Endangered</td>\n",
       "      <td>747</td>\n",
       "    </tr>\n",
       "    <tr>\n",
       "      <th>16</th>\n",
       "      <td>Yosemite National Park</td>\n",
       "      <td>In Recovery</td>\n",
       "      <td>386</td>\n",
       "    </tr>\n",
       "    <tr>\n",
       "      <th>17</th>\n",
       "      <td>Yosemite National Park</td>\n",
       "      <td>Least Concern</td>\n",
       "      <td>839976</td>\n",
       "    </tr>\n",
       "    <tr>\n",
       "      <th>18</th>\n",
       "      <td>Yosemite National Park</td>\n",
       "      <td>Species of Concern</td>\n",
       "      <td>21551</td>\n",
       "    </tr>\n",
       "    <tr>\n",
       "      <th>19</th>\n",
       "      <td>Yosemite National Park</td>\n",
       "      <td>Threatened</td>\n",
       "      <td>672</td>\n",
       "    </tr>\n",
       "  </tbody>\n",
       "</table>\n",
       "</div>"
      ],
      "text/plain": [
       "                              park_name conservation_status  observations\n",
       "0                   Bryce National Park          Endangered           489\n",
       "1                   Bryce National Park         In Recovery           258\n",
       "2                   Bryce National Park       Least Concern        559926\n",
       "3                   Bryce National Park  Species of Concern         14925\n",
       "4                   Bryce National Park          Threatened           427\n",
       "5   Great Smoky Mountains National Park          Endangered           334\n",
       "6   Great Smoky Mountains National Park         In Recovery           189\n",
       "7   Great Smoky Mountains National Park       Least Concern        420643\n",
       "8   Great Smoky Mountains National Park  Species of Concern         10314\n",
       "9   Great Smoky Mountains National Park          Threatened           340\n",
       "10            Yellowstone National Park          Endangered          1228\n",
       "11            Yellowstone National Park         In Recovery           559\n",
       "12            Yellowstone National Park       Least Concern       1404899\n",
       "13            Yellowstone National Park  Species of Concern         35789\n",
       "14            Yellowstone National Park          Threatened          1087\n",
       "15               Yosemite National Park          Endangered           747\n",
       "16               Yosemite National Park         In Recovery           386\n",
       "17               Yosemite National Park       Least Concern        839976\n",
       "18               Yosemite National Park  Species of Concern         21551\n",
       "19               Yosemite National Park          Threatened           672"
      ]
     },
     "execution_count": 46,
     "metadata": {},
     "output_type": "execute_result"
    }
   ],
   "source": [
    "park_cons"
   ]
  },
  {
   "cell_type": "code",
   "execution_count": 47,
   "metadata": {},
   "outputs": [
    {
     "data": {
      "image/png": "[encoded data removed]",
      "text/plain": [
       "<Figure size 720x720 with 1 Axes>"
      ]
     },
     "metadata": {
      "needs_background": "light"
     },
     "output_type": "display_data"
    }
   ],
   "source": [
    "fig, ax = plt.subplots(figsize = (10,10))\n",
    "sns.barplot(x = park_cons.park_name, y = park_cons.observations, hue=park_cons.conservation_status, order = order, hue_order=order_mean.conservation_status)\n",
    "ax.set_xlabel(\"National Park\")\n",
    "ax.set_ylabel(\"Number of observations\")\n",
    "plt.legend()\n",
    "plt.tight_layout()\n",
    "plt.show()"
   ]
  },
  {
   "cell_type": "markdown",
   "metadata": {},
   "source": [
    "With the \"least\" concern dominating so much, lets remove that and look at the rest...."
   ]
  },
  {
   "cell_type": "code",
   "execution_count": 48,
   "metadata": {},
   "outputs": [],
   "source": [
    "park_cons_nolc = park_cons[park_cons.conservation_status!=\"Least Concern\"]"
   ]
  },
  {
   "cell_type": "code",
   "execution_count": 49,
   "metadata": {},
   "outputs": [
    {
     "data": {
      "image/png": "[encoded data removed]",
      "text/plain": [
       "<Figure size 720x720 with 1 Axes>"
      ]
     },
     "metadata": {
      "needs_background": "light"
     },
     "output_type": "display_data"
    }
   ],
   "source": [
    "fig, ax = plt.subplots(figsize = (10,10))\n",
    "sns.barplot(x = park_cons_nolc.park_name, y = park_cons_nolc.observations, hue=park_cons_nolc.conservation_status, order = order, hue_order=order_mean.conservation_status.iloc[1:])\n",
    "ax.set_xlabel(\"National Park\")\n",
    "ax.set_ylabel(\"Number of observations\")\n",
    "plt.legend()\n",
    "plt.tight_layout()\n",
    "plt.show()"
   ]
  },
  {
   "cell_type": "markdown",
   "metadata": {},
   "source": [
    "Species of concern, again, is extremely dominant over the remaining, and is clearly higher than the rest for each park. So, looking without:"
   ]
  },
  {
   "cell_type": "code",
   "execution_count": 50,
   "metadata": {},
   "outputs": [
    {
     "data": {
      "image/png": "[encoded data removed]",
      "text/plain": [
       "<Figure size 720x720 with 1 Axes>"
      ]
     },
     "metadata": {
      "needs_background": "light"
     },
     "output_type": "display_data"
    }
   ],
   "source": [
    "park_cons_nolcsc = park_cons_nolc[park_cons_nolc.conservation_status!=\"Species of Concern\"]\n",
    "fig, ax = plt.subplots(figsize = (10,10))\n",
    "sns.barplot(x = park_cons_nolcsc.park_name, y = park_cons_nolcsc.observations, hue=park_cons_nolcsc.conservation_status, order = order, hue_order = order_mean.conservation_status.iloc[2:])\n",
    "ax.set_xlabel(\"National Park\")\n",
    "ax.set_ylabel(\"Number of observations\")\n",
    "plt.legend()\n",
    "plt.tight_layout()\n",
    "plt.show()"
   ]
  },
  {
   "cell_type": "markdown",
   "metadata": {},
   "source": [
    "Following Least Concern and Species of Concern, Endangered is generally the next highest, except in the Great Smoky Mountains National Park, where it appears to be the Threatened classification. The number of species classed as In Recovery is the smallest for each national park"
   ]
  },
  {
   "cell_type": "code",
   "execution_count": 51,
   "metadata": {},
   "outputs": [
    {
     "data": {
      "text/html": [
       "<div>\n",
       "<style scoped>\n",
       "    .dataframe tbody tr th:only-of-type {\n",
       "        vertical-align: middle;\n",
       "    }\n",
       "\n",
       "    .dataframe tbody tr th {\n",
       "        vertical-align: top;\n",
       "    }\n",
       "\n",
       "    .dataframe thead th {\n",
       "        text-align: right;\n",
       "    }\n",
       "</style>\n",
       "<table border=\"1\" class=\"dataframe\">\n",
       "  <thead>\n",
       "    <tr style=\"text-align: right;\">\n",
       "      <th></th>\n",
       "      <th>park_name</th>\n",
       "      <th>conservation_status</th>\n",
       "      <th>observations</th>\n",
       "      <th>total_observations</th>\n",
       "      <th>perc_obs</th>\n",
       "    </tr>\n",
       "  </thead>\n",
       "  <tbody>\n",
       "    <tr>\n",
       "      <th>0</th>\n",
       "      <td>Bryce National Park</td>\n",
       "      <td>Endangered</td>\n",
       "      <td>489</td>\n",
       "      <td>576025</td>\n",
       "      <td>0.084892</td>\n",
       "    </tr>\n",
       "    <tr>\n",
       "      <th>1</th>\n",
       "      <td>Bryce National Park</td>\n",
       "      <td>In Recovery</td>\n",
       "      <td>258</td>\n",
       "      <td>576025</td>\n",
       "      <td>0.044790</td>\n",
       "    </tr>\n",
       "    <tr>\n",
       "      <th>2</th>\n",
       "      <td>Bryce National Park</td>\n",
       "      <td>Least Concern</td>\n",
       "      <td>559926</td>\n",
       "      <td>576025</td>\n",
       "      <td>97.205156</td>\n",
       "    </tr>\n",
       "    <tr>\n",
       "      <th>3</th>\n",
       "      <td>Bryce National Park</td>\n",
       "      <td>Species of Concern</td>\n",
       "      <td>14925</td>\n",
       "      <td>576025</td>\n",
       "      <td>2.591033</td>\n",
       "    </tr>\n",
       "    <tr>\n",
       "      <th>4</th>\n",
       "      <td>Bryce National Park</td>\n",
       "      <td>Threatened</td>\n",
       "      <td>427</td>\n",
       "      <td>576025</td>\n",
       "      <td>0.074129</td>\n",
       "    </tr>\n",
       "    <tr>\n",
       "      <th>5</th>\n",
       "      <td>Great Smoky Mountains National Park</td>\n",
       "      <td>Endangered</td>\n",
       "      <td>334</td>\n",
       "      <td>431820</td>\n",
       "      <td>0.077347</td>\n",
       "    </tr>\n",
       "    <tr>\n",
       "      <th>6</th>\n",
       "      <td>Great Smoky Mountains National Park</td>\n",
       "      <td>In Recovery</td>\n",
       "      <td>189</td>\n",
       "      <td>431820</td>\n",
       "      <td>0.043768</td>\n",
       "    </tr>\n",
       "    <tr>\n",
       "      <th>7</th>\n",
       "      <td>Great Smoky Mountains National Park</td>\n",
       "      <td>Least Concern</td>\n",
       "      <td>420643</td>\n",
       "      <td>431820</td>\n",
       "      <td>97.411653</td>\n",
       "    </tr>\n",
       "    <tr>\n",
       "      <th>8</th>\n",
       "      <td>Great Smoky Mountains National Park</td>\n",
       "      <td>Species of Concern</td>\n",
       "      <td>10314</td>\n",
       "      <td>431820</td>\n",
       "      <td>2.388495</td>\n",
       "    </tr>\n",
       "    <tr>\n",
       "      <th>9</th>\n",
       "      <td>Great Smoky Mountains National Park</td>\n",
       "      <td>Threatened</td>\n",
       "      <td>340</td>\n",
       "      <td>431820</td>\n",
       "      <td>0.078737</td>\n",
       "    </tr>\n",
       "    <tr>\n",
       "      <th>10</th>\n",
       "      <td>Yellowstone National Park</td>\n",
       "      <td>Endangered</td>\n",
       "      <td>1228</td>\n",
       "      <td>1443562</td>\n",
       "      <td>0.085067</td>\n",
       "    </tr>\n",
       "    <tr>\n",
       "      <th>11</th>\n",
       "      <td>Yellowstone National Park</td>\n",
       "      <td>In Recovery</td>\n",
       "      <td>559</td>\n",
       "      <td>1443562</td>\n",
       "      <td>0.038724</td>\n",
       "    </tr>\n",
       "    <tr>\n",
       "      <th>12</th>\n",
       "      <td>Yellowstone National Park</td>\n",
       "      <td>Least Concern</td>\n",
       "      <td>1404899</td>\n",
       "      <td>1443562</td>\n",
       "      <td>97.321695</td>\n",
       "    </tr>\n",
       "    <tr>\n",
       "      <th>13</th>\n",
       "      <td>Yellowstone National Park</td>\n",
       "      <td>Species of Concern</td>\n",
       "      <td>35789</td>\n",
       "      <td>1443562</td>\n",
       "      <td>2.479215</td>\n",
       "    </tr>\n",
       "    <tr>\n",
       "      <th>14</th>\n",
       "      <td>Yellowstone National Park</td>\n",
       "      <td>Threatened</td>\n",
       "      <td>1087</td>\n",
       "      <td>1443562</td>\n",
       "      <td>0.075300</td>\n",
       "    </tr>\n",
       "    <tr>\n",
       "      <th>15</th>\n",
       "      <td>Yosemite National Park</td>\n",
       "      <td>Endangered</td>\n",
       "      <td>747</td>\n",
       "      <td>863332</td>\n",
       "      <td>0.086525</td>\n",
       "    </tr>\n",
       "    <tr>\n",
       "      <th>16</th>\n",
       "      <td>Yosemite National Park</td>\n",
       "      <td>In Recovery</td>\n",
       "      <td>386</td>\n",
       "      <td>863332</td>\n",
       "      <td>0.044710</td>\n",
       "    </tr>\n",
       "    <tr>\n",
       "      <th>17</th>\n",
       "      <td>Yosemite National Park</td>\n",
       "      <td>Least Concern</td>\n",
       "      <td>839976</td>\n",
       "      <td>863332</td>\n",
       "      <td>97.294668</td>\n",
       "    </tr>\n",
       "    <tr>\n",
       "      <th>18</th>\n",
       "      <td>Yosemite National Park</td>\n",
       "      <td>Species of Concern</td>\n",
       "      <td>21551</td>\n",
       "      <td>863332</td>\n",
       "      <td>2.496259</td>\n",
       "    </tr>\n",
       "    <tr>\n",
       "      <th>19</th>\n",
       "      <td>Yosemite National Park</td>\n",
       "      <td>Threatened</td>\n",
       "      <td>672</td>\n",
       "      <td>863332</td>\n",
       "      <td>0.077838</td>\n",
       "    </tr>\n",
       "  </tbody>\n",
       "</table>\n",
       "</div>"
      ],
      "text/plain": [
       "                              park_name conservation_status  observations  \\\n",
       "0                   Bryce National Park          Endangered           489   \n",
       "1                   Bryce National Park         In Recovery           258   \n",
       "2                   Bryce National Park       Least Concern        559926   \n",
       "3                   Bryce National Park  Species of Concern         14925   \n",
       "4                   Bryce National Park          Threatened           427   \n",
       "5   Great Smoky Mountains National Park          Endangered           334   \n",
       "6   Great Smoky Mountains National Park         In Recovery           189   \n",
       "7   Great Smoky Mountains National Park       Least Concern        420643   \n",
       "8   Great Smoky Mountains National Park  Species of Concern         10314   \n",
       "9   Great Smoky Mountains National Park          Threatened           340   \n",
       "10            Yellowstone National Park          Endangered          1228   \n",
       "11            Yellowstone National Park         In Recovery           559   \n",
       "12            Yellowstone National Park       Least Concern       1404899   \n",
       "13            Yellowstone National Park  Species of Concern         35789   \n",
       "14            Yellowstone National Park          Threatened          1087   \n",
       "15               Yosemite National Park          Endangered           747   \n",
       "16               Yosemite National Park         In Recovery           386   \n",
       "17               Yosemite National Park       Least Concern        839976   \n",
       "18               Yosemite National Park  Species of Concern         21551   \n",
       "19               Yosemite National Park          Threatened           672   \n",
       "\n",
       "    total_observations   perc_obs  \n",
       "0               576025   0.084892  \n",
       "1               576025   0.044790  \n",
       "2               576025  97.205156  \n",
       "3               576025   2.591033  \n",
       "4               576025   0.074129  \n",
       "5               431820   0.077347  \n",
       "6               431820   0.043768  \n",
       "7               431820  97.411653  \n",
       "8               431820   2.388495  \n",
       "9               431820   0.078737  \n",
       "10             1443562   0.085067  \n",
       "11             1443562   0.038724  \n",
       "12             1443562  97.321695  \n",
       "13             1443562   2.479215  \n",
       "14             1443562   0.075300  \n",
       "15              863332   0.086525  \n",
       "16              863332   0.044710  \n",
       "17              863332  97.294668  \n",
       "18              863332   2.496259  \n",
       "19              863332   0.077838  "
      ]
     },
     "execution_count": 51,
     "metadata": {},
     "output_type": "execute_result"
    }
   ],
   "source": [
    "total_obs = park_cons.groupby(\"park_name\").sum().reset_index()\n",
    "park_cons_pc = pd.merge(park_cons, total_obs, on=\"park_name\")\n",
    "park_cons_pc.rename(columns={\"observations_x\":\"observations\", \"observations_y\": \"total_observations\"}, inplace=True)\n",
    "park_cons_pc[\"perc_obs\"] = park_cons_pc.observations / park_cons_pc.total_observations * 100\n",
    "park_cons_pc"
   ]
  },
  {
   "cell_type": "code",
   "execution_count": 52,
   "metadata": {},
   "outputs": [
    {
     "data": {
      "image/png": "[encoded data removed]",
      "text/plain": [
       "<Figure size 720x720 with 1 Axes>"
      ]
     },
     "metadata": {
      "needs_background": "light"
     },
     "output_type": "display_data"
    }
   ],
   "source": [
    "fig, ax = plt.subplots(figsize= (10,10))\n",
    "sns.barplot(x = park_cons_pc.conservation_status, y = park_cons_pc.perc_obs, hue = park_cons_pc.park_name, hue_order=order, order = order_mean.conservation_status)\n",
    "ax.set_xlabel(\"Conservation Status\")\n",
    "ax.set_ylabel(\"Percentage\")\n",
    "plt.title(\"Percentage of Animals in each conservation class for each National Park\")\n",
    "plt.tight_layout()\n",
    "plt.show()"
   ]
  },
  {
   "cell_type": "markdown",
   "metadata": {},
   "source": [
    "We see, again, as a percentage, that least concern and species of concern dominate. Looking at the final three:"
   ]
  },
  {
   "cell_type": "code",
   "execution_count": 53,
   "metadata": {},
   "outputs": [
    {
     "name": "stderr",
     "output_type": "stream",
     "text": [
      "<ipython-input-53-28989ea57ffe>:3: UserWarning: Boolean Series key will be reindexed to match DataFrame index.\n",
      "  park_cons_pc_red = park_cons_pc_red[park_cons_pc.conservation_status!=\"Species of Concern\"]\n"
     ]
    },
    {
     "data": {
      "image/png": "[encoded data removed]",
      "text/plain": [
       "<Figure size 720x720 with 1 Axes>"
      ]
     },
     "metadata": {
      "needs_background": "light"
     },
     "output_type": "display_data"
    }
   ],
   "source": [
    "fig, ax = plt.subplots(figsize= (10,10))\n",
    "park_cons_pc_red = park_cons_pc[park_cons_pc.conservation_status!=\"Least Concern\"]\n",
    "park_cons_pc_red = park_cons_pc_red[park_cons_pc.conservation_status!=\"Species of Concern\"]\n",
    "sns.barplot(x = park_cons_pc_red.conservation_status, y = park_cons_pc_red.perc_obs, hue = park_cons_pc_red.park_name, hue_order=order, order = order_mean.conservation_status.iloc[2:])\n",
    "ax.set_xlabel(\"Conservation Status\")\n",
    "ax.set_ylabel(\"Percentage\")\n",
    "plt.title(\"Percentage of Animals in each conservation class for each National Park\")\n",
    "plt.tight_layout()\n",
    "plt.show()"
   ]
  },
  {
   "cell_type": "code",
   "execution_count": 54,
   "metadata": {},
   "outputs": [
    {
     "name": "stderr",
     "output_type": "stream",
     "text": [
      "<ipython-input-54-5472e70917b9>:3: UserWarning: Boolean Series key will be reindexed to match DataFrame index.\n",
      "  park_cons_pc_red = park_cons_pc_red[park_cons_pc.conservation_status!=\"Species of Concern\"]\n"
     ]
    },
    {
     "data": {
      "image/png": "[encoded data removed]",
      "text/plain": [
       "<Figure size 720x720 with 1 Axes>"
      ]
     },
     "metadata": {
      "needs_background": "light"
     },
     "output_type": "display_data"
    }
   ],
   "source": [
    "fig, ax = plt.subplots(figsize= (10,10))\n",
    "park_cons_pc_red = park_cons_pc[park_cons_pc.conservation_status!=\"Least Concern\"]\n",
    "park_cons_pc_red = park_cons_pc_red[park_cons_pc.conservation_status!=\"Species of Concern\"]\n",
    "sns.barplot(x = park_cons_pc_red.park_name, y = park_cons_pc_red.perc_obs, hue = park_cons_pc_red.conservation_status, order= order, hue_order= order_mean.conservation_status.iloc[2:])\n",
    "ax.set_xlabel(\"Conservation Status\")\n",
    "ax.set_ylabel(\"Percentage\")\n",
    "plt.title(\"Percentage of Animals in each conservation class for each National Park\")\n",
    "plt.tight_layout()\n",
    "plt.show()"
   ]
  },
  {
   "cell_type": "code",
   "execution_count": 55,
   "metadata": {},
   "outputs": [
    {
     "data": {
      "image/png": "[encoded data removed]",
      "text/plain": [
       "<Figure size 720x720 with 1 Axes>"
      ]
     },
     "metadata": {
      "needs_background": "light"
     },
     "output_type": "display_data"
    }
   ],
   "source": [
    "fig, ax = plt.subplots(figsize= (10,10))\n",
    "park_cons_pc_lc = park_cons_pc[park_cons_pc.conservation_status==\"Least Concern\"]\n",
    "#park_cons_pc_red = park_cons_pc_red[park_cons_pc.conservation_status!=\"Species of Concern\"]\n",
    "sns.barplot(x = park_cons_pc_lc.park_name, y = park_cons_pc_lc.perc_obs, order= order)\n",
    "ax.set_xlabel(\"National Park\")\n",
    "ax.set_ylabel(\"Percentage\")\n",
    "ax.set_ylim(95,100)\n",
    "plt.title(\"Percentage of Animals in least concern conservation class for each National Park\")\n",
    "plt.tight_layout()\n",
    "plt.show()"
   ]
  },
  {
   "cell_type": "markdown",
   "metadata": {},
   "source": [
    "So the distributions are about the same:\n",
    "- The national parks all have similar percentages of Least Concern, Species of Concern, Endangered, In Rcovery, and Threatened Species\n",
    "- Yellowstone has a lower percentage of species in recovery\n",
    "- The Great Smoky Mountains National Park has the highest percentage of animals in the Least Concern class"
   ]
  },
  {
   "cell_type": "code",
   "execution_count": 56,
   "metadata": {},
   "outputs": [
    {
     "data": {
      "text/html": [
       "<div>\n",
       "<style scoped>\n",
       "    .dataframe tbody tr th:only-of-type {\n",
       "        vertical-align: middle;\n",
       "    }\n",
       "\n",
       "    .dataframe tbody tr th {\n",
       "        vertical-align: top;\n",
       "    }\n",
       "\n",
       "    .dataframe thead th {\n",
       "        text-align: right;\n",
       "    }\n",
       "</style>\n",
       "<table border=\"1\" class=\"dataframe\">\n",
       "  <thead>\n",
       "    <tr style=\"text-align: right;\">\n",
       "      <th></th>\n",
       "      <th>category</th>\n",
       "      <th>conservation_status</th>\n",
       "      <th>observations</th>\n",
       "    </tr>\n",
       "  </thead>\n",
       "  <tbody>\n",
       "    <tr>\n",
       "      <th>0</th>\n",
       "      <td>Amphibian</td>\n",
       "      <td>Endangered</td>\n",
       "      <td>144</td>\n",
       "    </tr>\n",
       "    <tr>\n",
       "      <th>1</th>\n",
       "      <td>Amphibian</td>\n",
       "      <td>Least Concern</td>\n",
       "      <td>41219</td>\n",
       "    </tr>\n",
       "    <tr>\n",
       "      <th>2</th>\n",
       "      <td>Amphibian</td>\n",
       "      <td>Species of Concern</td>\n",
       "      <td>2044</td>\n",
       "    </tr>\n",
       "    <tr>\n",
       "      <th>3</th>\n",
       "      <td>Amphibian</td>\n",
       "      <td>Threatened</td>\n",
       "      <td>564</td>\n",
       "    </tr>\n",
       "    <tr>\n",
       "      <th>4</th>\n",
       "      <td>Bird</td>\n",
       "      <td>Endangered</td>\n",
       "      <td>574</td>\n",
       "    </tr>\n",
       "    <tr>\n",
       "      <th>5</th>\n",
       "      <td>Bird</td>\n",
       "      <td>In Recovery</td>\n",
       "      <td>1392</td>\n",
       "    </tr>\n",
       "    <tr>\n",
       "      <th>6</th>\n",
       "      <td>Bird</td>\n",
       "      <td>Least Concern</td>\n",
       "      <td>254225</td>\n",
       "    </tr>\n",
       "    <tr>\n",
       "      <th>7</th>\n",
       "      <td>Bird</td>\n",
       "      <td>Species of Concern</td>\n",
       "      <td>36642</td>\n",
       "    </tr>\n",
       "    <tr>\n",
       "      <th>8</th>\n",
       "      <td>Fish</td>\n",
       "      <td>Endangered</td>\n",
       "      <td>455</td>\n",
       "    </tr>\n",
       "    <tr>\n",
       "      <th>9</th>\n",
       "      <td>Fish</td>\n",
       "      <td>Least Concern</td>\n",
       "      <td>67422</td>\n",
       "    </tr>\n",
       "    <tr>\n",
       "      <th>10</th>\n",
       "      <td>Fish</td>\n",
       "      <td>Species of Concern</td>\n",
       "      <td>2109</td>\n",
       "    </tr>\n",
       "    <tr>\n",
       "      <th>11</th>\n",
       "      <td>Fish</td>\n",
       "      <td>Threatened</td>\n",
       "      <td>832</td>\n",
       "    </tr>\n",
       "    <tr>\n",
       "      <th>12</th>\n",
       "      <td>Mammal</td>\n",
       "      <td>Endangered</td>\n",
       "      <td>1463</td>\n",
       "    </tr>\n",
       "    <tr>\n",
       "      <th>13</th>\n",
       "      <td>Mammal</td>\n",
       "      <td>Least Concern</td>\n",
       "      <td>100247</td>\n",
       "    </tr>\n",
       "    <tr>\n",
       "      <th>14</th>\n",
       "      <td>Mammal</td>\n",
       "      <td>Species of Concern</td>\n",
       "      <td>14408</td>\n",
       "    </tr>\n",
       "    <tr>\n",
       "      <th>15</th>\n",
       "      <td>Mammal</td>\n",
       "      <td>Threatened</td>\n",
       "      <td>578</td>\n",
       "    </tr>\n",
       "    <tr>\n",
       "      <th>16</th>\n",
       "      <td>Nonvascular Plant</td>\n",
       "      <td>Least Concern</td>\n",
       "      <td>187948</td>\n",
       "    </tr>\n",
       "    <tr>\n",
       "      <th>17</th>\n",
       "      <td>Nonvascular Plant</td>\n",
       "      <td>Species of Concern</td>\n",
       "      <td>2705</td>\n",
       "    </tr>\n",
       "    <tr>\n",
       "      <th>18</th>\n",
       "      <td>Reptile</td>\n",
       "      <td>Least Concern</td>\n",
       "      <td>42142</td>\n",
       "    </tr>\n",
       "    <tr>\n",
       "      <th>19</th>\n",
       "      <td>Reptile</td>\n",
       "      <td>Species of Concern</td>\n",
       "      <td>2536</td>\n",
       "    </tr>\n",
       "    <tr>\n",
       "      <th>20</th>\n",
       "      <td>Vascular Plant</td>\n",
       "      <td>Endangered</td>\n",
       "      <td>162</td>\n",
       "    </tr>\n",
       "    <tr>\n",
       "      <th>21</th>\n",
       "      <td>Vascular Plant</td>\n",
       "      <td>Least Concern</td>\n",
       "      <td>2532241</td>\n",
       "    </tr>\n",
       "    <tr>\n",
       "      <th>22</th>\n",
       "      <td>Vascular Plant</td>\n",
       "      <td>Species of Concern</td>\n",
       "      <td>22135</td>\n",
       "    </tr>\n",
       "    <tr>\n",
       "      <th>23</th>\n",
       "      <td>Vascular Plant</td>\n",
       "      <td>Threatened</td>\n",
       "      <td>552</td>\n",
       "    </tr>\n",
       "  </tbody>\n",
       "</table>\n",
       "</div>"
      ],
      "text/plain": [
       "             category conservation_status  observations\n",
       "0           Amphibian          Endangered           144\n",
       "1           Amphibian       Least Concern         41219\n",
       "2           Amphibian  Species of Concern          2044\n",
       "3           Amphibian          Threatened           564\n",
       "4                Bird          Endangered           574\n",
       "5                Bird         In Recovery          1392\n",
       "6                Bird       Least Concern        254225\n",
       "7                Bird  Species of Concern         36642\n",
       "8                Fish          Endangered           455\n",
       "9                Fish       Least Concern         67422\n",
       "10               Fish  Species of Concern          2109\n",
       "11               Fish          Threatened           832\n",
       "12             Mammal          Endangered          1463\n",
       "13             Mammal       Least Concern        100247\n",
       "14             Mammal  Species of Concern         14408\n",
       "15             Mammal          Threatened           578\n",
       "16  Nonvascular Plant       Least Concern        187948\n",
       "17  Nonvascular Plant  Species of Concern          2705\n",
       "18            Reptile       Least Concern         42142\n",
       "19            Reptile  Species of Concern          2536\n",
       "20     Vascular Plant          Endangered           162\n",
       "21     Vascular Plant       Least Concern       2532241\n",
       "22     Vascular Plant  Species of Concern         22135\n",
       "23     Vascular Plant          Threatened           552"
      ]
     },
     "execution_count": 56,
     "metadata": {},
     "output_type": "execute_result"
    }
   ],
   "source": [
    "category_cons = species_observation.groupby([\"category\", \"conservation_status\"]).sum().reset_index()\n",
    "category_cons"
   ]
  },
  {
   "cell_type": "code",
   "execution_count": 57,
   "metadata": {},
   "outputs": [
    {
     "data": {
      "text/html": [
       "<div>\n",
       "<style scoped>\n",
       "    .dataframe tbody tr th:only-of-type {\n",
       "        vertical-align: middle;\n",
       "    }\n",
       "\n",
       "    .dataframe tbody tr th {\n",
       "        vertical-align: top;\n",
       "    }\n",
       "\n",
       "    .dataframe thead th {\n",
       "        text-align: right;\n",
       "    }\n",
       "</style>\n",
       "<table border=\"1\" class=\"dataframe\">\n",
       "  <thead>\n",
       "    <tr style=\"text-align: right;\">\n",
       "      <th></th>\n",
       "      <th>category</th>\n",
       "      <th>conservation_status</th>\n",
       "      <th>observations</th>\n",
       "      <th>total_observations</th>\n",
       "      <th>perc_obs</th>\n",
       "    </tr>\n",
       "  </thead>\n",
       "  <tbody>\n",
       "    <tr>\n",
       "      <th>0</th>\n",
       "      <td>Amphibian</td>\n",
       "      <td>Endangered</td>\n",
       "      <td>144</td>\n",
       "      <td>43971</td>\n",
       "      <td>0.327489</td>\n",
       "    </tr>\n",
       "    <tr>\n",
       "      <th>1</th>\n",
       "      <td>Amphibian</td>\n",
       "      <td>Least Concern</td>\n",
       "      <td>41219</td>\n",
       "      <td>43971</td>\n",
       "      <td>93.741330</td>\n",
       "    </tr>\n",
       "    <tr>\n",
       "      <th>2</th>\n",
       "      <td>Amphibian</td>\n",
       "      <td>Species of Concern</td>\n",
       "      <td>2044</td>\n",
       "      <td>43971</td>\n",
       "      <td>4.648518</td>\n",
       "    </tr>\n",
       "    <tr>\n",
       "      <th>3</th>\n",
       "      <td>Amphibian</td>\n",
       "      <td>Threatened</td>\n",
       "      <td>564</td>\n",
       "      <td>43971</td>\n",
       "      <td>1.282664</td>\n",
       "    </tr>\n",
       "    <tr>\n",
       "      <th>4</th>\n",
       "      <td>Bird</td>\n",
       "      <td>Endangered</td>\n",
       "      <td>574</td>\n",
       "      <td>292833</td>\n",
       "      <td>0.196016</td>\n",
       "    </tr>\n",
       "    <tr>\n",
       "      <th>5</th>\n",
       "      <td>Bird</td>\n",
       "      <td>In Recovery</td>\n",
       "      <td>1392</td>\n",
       "      <td>292833</td>\n",
       "      <td>0.475356</td>\n",
       "    </tr>\n",
       "    <tr>\n",
       "      <th>6</th>\n",
       "      <td>Bird</td>\n",
       "      <td>Least Concern</td>\n",
       "      <td>254225</td>\n",
       "      <td>292833</td>\n",
       "      <td>86.815694</td>\n",
       "    </tr>\n",
       "    <tr>\n",
       "      <th>7</th>\n",
       "      <td>Bird</td>\n",
       "      <td>Species of Concern</td>\n",
       "      <td>36642</td>\n",
       "      <td>292833</td>\n",
       "      <td>12.512934</td>\n",
       "    </tr>\n",
       "    <tr>\n",
       "      <th>8</th>\n",
       "      <td>Fish</td>\n",
       "      <td>Endangered</td>\n",
       "      <td>455</td>\n",
       "      <td>70818</td>\n",
       "      <td>0.642492</td>\n",
       "    </tr>\n",
       "    <tr>\n",
       "      <th>9</th>\n",
       "      <td>Fish</td>\n",
       "      <td>Least Concern</td>\n",
       "      <td>67422</td>\n",
       "      <td>70818</td>\n",
       "      <td>95.204609</td>\n",
       "    </tr>\n",
       "    <tr>\n",
       "      <th>10</th>\n",
       "      <td>Fish</td>\n",
       "      <td>Species of Concern</td>\n",
       "      <td>2109</td>\n",
       "      <td>70818</td>\n",
       "      <td>2.978056</td>\n",
       "    </tr>\n",
       "    <tr>\n",
       "      <th>11</th>\n",
       "      <td>Fish</td>\n",
       "      <td>Threatened</td>\n",
       "      <td>832</td>\n",
       "      <td>70818</td>\n",
       "      <td>1.174843</td>\n",
       "    </tr>\n",
       "    <tr>\n",
       "      <th>12</th>\n",
       "      <td>Mammal</td>\n",
       "      <td>Endangered</td>\n",
       "      <td>1463</td>\n",
       "      <td>116696</td>\n",
       "      <td>1.253685</td>\n",
       "    </tr>\n",
       "    <tr>\n",
       "      <th>13</th>\n",
       "      <td>Mammal</td>\n",
       "      <td>Least Concern</td>\n",
       "      <td>100247</td>\n",
       "      <td>116696</td>\n",
       "      <td>85.904401</td>\n",
       "    </tr>\n",
       "    <tr>\n",
       "      <th>14</th>\n",
       "      <td>Mammal</td>\n",
       "      <td>Species of Concern</td>\n",
       "      <td>14408</td>\n",
       "      <td>116696</td>\n",
       "      <td>12.346610</td>\n",
       "    </tr>\n",
       "    <tr>\n",
       "      <th>15</th>\n",
       "      <td>Mammal</td>\n",
       "      <td>Threatened</td>\n",
       "      <td>578</td>\n",
       "      <td>116696</td>\n",
       "      <td>0.495304</td>\n",
       "    </tr>\n",
       "    <tr>\n",
       "      <th>16</th>\n",
       "      <td>Nonvascular Plant</td>\n",
       "      <td>Least Concern</td>\n",
       "      <td>187948</td>\n",
       "      <td>190653</td>\n",
       "      <td>98.581192</td>\n",
       "    </tr>\n",
       "    <tr>\n",
       "      <th>17</th>\n",
       "      <td>Nonvascular Plant</td>\n",
       "      <td>Species of Concern</td>\n",
       "      <td>2705</td>\n",
       "      <td>190653</td>\n",
       "      <td>1.418808</td>\n",
       "    </tr>\n",
       "    <tr>\n",
       "      <th>18</th>\n",
       "      <td>Reptile</td>\n",
       "      <td>Least Concern</td>\n",
       "      <td>42142</td>\n",
       "      <td>44678</td>\n",
       "      <td>94.323828</td>\n",
       "    </tr>\n",
       "    <tr>\n",
       "      <th>19</th>\n",
       "      <td>Reptile</td>\n",
       "      <td>Species of Concern</td>\n",
       "      <td>2536</td>\n",
       "      <td>44678</td>\n",
       "      <td>5.676172</td>\n",
       "    </tr>\n",
       "    <tr>\n",
       "      <th>20</th>\n",
       "      <td>Vascular Plant</td>\n",
       "      <td>Endangered</td>\n",
       "      <td>162</td>\n",
       "      <td>2555090</td>\n",
       "      <td>0.006340</td>\n",
       "    </tr>\n",
       "    <tr>\n",
       "      <th>21</th>\n",
       "      <td>Vascular Plant</td>\n",
       "      <td>Least Concern</td>\n",
       "      <td>2532241</td>\n",
       "      <td>2555090</td>\n",
       "      <td>99.105746</td>\n",
       "    </tr>\n",
       "    <tr>\n",
       "      <th>22</th>\n",
       "      <td>Vascular Plant</td>\n",
       "      <td>Species of Concern</td>\n",
       "      <td>22135</td>\n",
       "      <td>2555090</td>\n",
       "      <td>0.866310</td>\n",
       "    </tr>\n",
       "    <tr>\n",
       "      <th>23</th>\n",
       "      <td>Vascular Plant</td>\n",
       "      <td>Threatened</td>\n",
       "      <td>552</td>\n",
       "      <td>2555090</td>\n",
       "      <td>0.021604</td>\n",
       "    </tr>\n",
       "  </tbody>\n",
       "</table>\n",
       "</div>"
      ],
      "text/plain": [
       "             category conservation_status  observations  total_observations  \\\n",
       "0           Amphibian          Endangered           144               43971   \n",
       "1           Amphibian       Least Concern         41219               43971   \n",
       "2           Amphibian  Species of Concern          2044               43971   \n",
       "3           Amphibian          Threatened           564               43971   \n",
       "4                Bird          Endangered           574              292833   \n",
       "5                Bird         In Recovery          1392              292833   \n",
       "6                Bird       Least Concern        254225              292833   \n",
       "7                Bird  Species of Concern         36642              292833   \n",
       "8                Fish          Endangered           455               70818   \n",
       "9                Fish       Least Concern         67422               70818   \n",
       "10               Fish  Species of Concern          2109               70818   \n",
       "11               Fish          Threatened           832               70818   \n",
       "12             Mammal          Endangered          1463              116696   \n",
       "13             Mammal       Least Concern        100247              116696   \n",
       "14             Mammal  Species of Concern         14408              116696   \n",
       "15             Mammal          Threatened           578              116696   \n",
       "16  Nonvascular Plant       Least Concern        187948              190653   \n",
       "17  Nonvascular Plant  Species of Concern          2705              190653   \n",
       "18            Reptile       Least Concern         42142               44678   \n",
       "19            Reptile  Species of Concern          2536               44678   \n",
       "20     Vascular Plant          Endangered           162             2555090   \n",
       "21     Vascular Plant       Least Concern       2532241             2555090   \n",
       "22     Vascular Plant  Species of Concern         22135             2555090   \n",
       "23     Vascular Plant          Threatened           552             2555090   \n",
       "\n",
       "     perc_obs  \n",
       "0    0.327489  \n",
       "1   93.741330  \n",
       "2    4.648518  \n",
       "3    1.282664  \n",
       "4    0.196016  \n",
       "5    0.475356  \n",
       "6   86.815694  \n",
       "7   12.512934  \n",
       "8    0.642492  \n",
       "9   95.204609  \n",
       "10   2.978056  \n",
       "11   1.174843  \n",
       "12   1.253685  \n",
       "13  85.904401  \n",
       "14  12.346610  \n",
       "15   0.495304  \n",
       "16  98.581192  \n",
       "17   1.418808  \n",
       "18  94.323828  \n",
       "19   5.676172  \n",
       "20   0.006340  \n",
       "21  99.105746  \n",
       "22   0.866310  \n",
       "23   0.021604  "
      ]
     },
     "execution_count": 57,
     "metadata": {},
     "output_type": "execute_result"
    }
   ],
   "source": [
    "total_cats = category_cons.groupby(\"category\").sum().reset_index()\n",
    "classes = pd.merge(category_cons, total_cats, on=\"category\")\n",
    "classes.rename(columns={\"observations_x\":\"observations\", \"observations_y\": \"total_observations\"}, inplace=True)\n",
    "classes[\"perc_obs\"] = classes.observations / classes.total_observations * 100\n",
    "classes"
   ]
  },
  {
   "cell_type": "code",
   "execution_count": 58,
   "metadata": {},
   "outputs": [
    {
     "data": {
      "text/html": [
       "<div>\n",
       "<style scoped>\n",
       "    .dataframe tbody tr th:only-of-type {\n",
       "        vertical-align: middle;\n",
       "    }\n",
       "\n",
       "    .dataframe tbody tr th {\n",
       "        vertical-align: top;\n",
       "    }\n",
       "\n",
       "    .dataframe thead th {\n",
       "        text-align: right;\n",
       "    }\n",
       "</style>\n",
       "<table border=\"1\" class=\"dataframe\">\n",
       "  <thead>\n",
       "    <tr style=\"text-align: right;\">\n",
       "      <th></th>\n",
       "      <th>category</th>\n",
       "      <th>conservation_status</th>\n",
       "      <th>observations</th>\n",
       "      <th>total_observations</th>\n",
       "      <th>perc_obs</th>\n",
       "    </tr>\n",
       "  </thead>\n",
       "  <tbody>\n",
       "    <tr>\n",
       "      <th>0</th>\n",
       "      <td>Amphibian</td>\n",
       "      <td>Endangered</td>\n",
       "      <td>144</td>\n",
       "      <td>43971</td>\n",
       "      <td>0.327489</td>\n",
       "    </tr>\n",
       "    <tr>\n",
       "      <th>2</th>\n",
       "      <td>Amphibian</td>\n",
       "      <td>Species of Concern</td>\n",
       "      <td>2044</td>\n",
       "      <td>43971</td>\n",
       "      <td>4.648518</td>\n",
       "    </tr>\n",
       "    <tr>\n",
       "      <th>3</th>\n",
       "      <td>Amphibian</td>\n",
       "      <td>Threatened</td>\n",
       "      <td>564</td>\n",
       "      <td>43971</td>\n",
       "      <td>1.282664</td>\n",
       "    </tr>\n",
       "    <tr>\n",
       "      <th>4</th>\n",
       "      <td>Bird</td>\n",
       "      <td>Endangered</td>\n",
       "      <td>574</td>\n",
       "      <td>292833</td>\n",
       "      <td>0.196016</td>\n",
       "    </tr>\n",
       "    <tr>\n",
       "      <th>5</th>\n",
       "      <td>Bird</td>\n",
       "      <td>In Recovery</td>\n",
       "      <td>1392</td>\n",
       "      <td>292833</td>\n",
       "      <td>0.475356</td>\n",
       "    </tr>\n",
       "    <tr>\n",
       "      <th>7</th>\n",
       "      <td>Bird</td>\n",
       "      <td>Species of Concern</td>\n",
       "      <td>36642</td>\n",
       "      <td>292833</td>\n",
       "      <td>12.512934</td>\n",
       "    </tr>\n",
       "    <tr>\n",
       "      <th>8</th>\n",
       "      <td>Fish</td>\n",
       "      <td>Endangered</td>\n",
       "      <td>455</td>\n",
       "      <td>70818</td>\n",
       "      <td>0.642492</td>\n",
       "    </tr>\n",
       "    <tr>\n",
       "      <th>10</th>\n",
       "      <td>Fish</td>\n",
       "      <td>Species of Concern</td>\n",
       "      <td>2109</td>\n",
       "      <td>70818</td>\n",
       "      <td>2.978056</td>\n",
       "    </tr>\n",
       "    <tr>\n",
       "      <th>11</th>\n",
       "      <td>Fish</td>\n",
       "      <td>Threatened</td>\n",
       "      <td>832</td>\n",
       "      <td>70818</td>\n",
       "      <td>1.174843</td>\n",
       "    </tr>\n",
       "    <tr>\n",
       "      <th>12</th>\n",
       "      <td>Mammal</td>\n",
       "      <td>Endangered</td>\n",
       "      <td>1463</td>\n",
       "      <td>116696</td>\n",
       "      <td>1.253685</td>\n",
       "    </tr>\n",
       "    <tr>\n",
       "      <th>14</th>\n",
       "      <td>Mammal</td>\n",
       "      <td>Species of Concern</td>\n",
       "      <td>14408</td>\n",
       "      <td>116696</td>\n",
       "      <td>12.346610</td>\n",
       "    </tr>\n",
       "    <tr>\n",
       "      <th>15</th>\n",
       "      <td>Mammal</td>\n",
       "      <td>Threatened</td>\n",
       "      <td>578</td>\n",
       "      <td>116696</td>\n",
       "      <td>0.495304</td>\n",
       "    </tr>\n",
       "    <tr>\n",
       "      <th>17</th>\n",
       "      <td>Nonvascular Plant</td>\n",
       "      <td>Species of Concern</td>\n",
       "      <td>2705</td>\n",
       "      <td>190653</td>\n",
       "      <td>1.418808</td>\n",
       "    </tr>\n",
       "    <tr>\n",
       "      <th>19</th>\n",
       "      <td>Reptile</td>\n",
       "      <td>Species of Concern</td>\n",
       "      <td>2536</td>\n",
       "      <td>44678</td>\n",
       "      <td>5.676172</td>\n",
       "    </tr>\n",
       "    <tr>\n",
       "      <th>20</th>\n",
       "      <td>Vascular Plant</td>\n",
       "      <td>Endangered</td>\n",
       "      <td>162</td>\n",
       "      <td>2555090</td>\n",
       "      <td>0.006340</td>\n",
       "    </tr>\n",
       "    <tr>\n",
       "      <th>22</th>\n",
       "      <td>Vascular Plant</td>\n",
       "      <td>Species of Concern</td>\n",
       "      <td>22135</td>\n",
       "      <td>2555090</td>\n",
       "      <td>0.866310</td>\n",
       "    </tr>\n",
       "    <tr>\n",
       "      <th>23</th>\n",
       "      <td>Vascular Plant</td>\n",
       "      <td>Threatened</td>\n",
       "      <td>552</td>\n",
       "      <td>2555090</td>\n",
       "      <td>0.021604</td>\n",
       "    </tr>\n",
       "  </tbody>\n",
       "</table>\n",
       "</div>"
      ],
      "text/plain": [
       "             category conservation_status  observations  total_observations  \\\n",
       "0           Amphibian          Endangered           144               43971   \n",
       "2           Amphibian  Species of Concern          2044               43971   \n",
       "3           Amphibian          Threatened           564               43971   \n",
       "4                Bird          Endangered           574              292833   \n",
       "5                Bird         In Recovery          1392              292833   \n",
       "7                Bird  Species of Concern         36642              292833   \n",
       "8                Fish          Endangered           455               70818   \n",
       "10               Fish  Species of Concern          2109               70818   \n",
       "11               Fish          Threatened           832               70818   \n",
       "12             Mammal          Endangered          1463              116696   \n",
       "14             Mammal  Species of Concern         14408              116696   \n",
       "15             Mammal          Threatened           578              116696   \n",
       "17  Nonvascular Plant  Species of Concern          2705              190653   \n",
       "19            Reptile  Species of Concern          2536               44678   \n",
       "20     Vascular Plant          Endangered           162             2555090   \n",
       "22     Vascular Plant  Species of Concern         22135             2555090   \n",
       "23     Vascular Plant          Threatened           552             2555090   \n",
       "\n",
       "     perc_obs  \n",
       "0    0.327489  \n",
       "2    4.648518  \n",
       "3    1.282664  \n",
       "4    0.196016  \n",
       "5    0.475356  \n",
       "7   12.512934  \n",
       "8    0.642492  \n",
       "10   2.978056  \n",
       "11   1.174843  \n",
       "12   1.253685  \n",
       "14  12.346610  \n",
       "15   0.495304  \n",
       "17   1.418808  \n",
       "19   5.676172  \n",
       "20   0.006340  \n",
       "22   0.866310  \n",
       "23   0.021604  "
      ]
     },
     "execution_count": 58,
     "metadata": {},
     "output_type": "execute_result"
    }
   ],
   "source": [
    "end_classes = classes[classes.conservation_status!=\"Least Concern\"]\n",
    "end_classes"
   ]
  },
  {
   "cell_type": "code",
   "execution_count": 59,
   "metadata": {},
   "outputs": [
    {
     "data": {
      "image/png": "[encoded data removed]",
      "text/plain": [
       "<Figure size 720x720 with 1 Axes>"
      ]
     },
     "metadata": {
      "needs_background": "light"
     },
     "output_type": "display_data"
    }
   ],
   "source": [
    "fig, ax = plt.subplots(figsize=(10,10))\n",
    "sns.barplot(x = end_classes.category, y = end_classes.perc_obs, hue=end_classes.conservation_status, hue_order = order_mean.conservation_status.iloc[1:])\n",
    "ax.set_xlabel(\"Biological Class\", fontsize = \"large\")\n",
    "ax.set_ylabel(\"Percentage in category\", fontsize = \"large\")\n",
    "plt.title(\"Percentage of wildlife classed as concerns\", fontsize = \"large\")\n",
    "plt.tight_layout()\n",
    "plt.legend()\n",
    "plt.show()"
   ]
  },
  {
   "cell_type": "markdown",
   "metadata": {},
   "source": [
    "From this plot, we can make a few deductions:\n",
    "- Vascular plants, nonvascular plants, and reptiles are generally very safe from concern ('Least Concern' category has been removed, so small bars means high percentage of these classes are in this category).\n",
    "- A higher proportion of mammals are endangered, along with fish. Some amphibians and birds are also endangered\n",
    "- The vast majority of species in recovery are birds.\n",
    "- The majority of species are in no danger whatsoever."
   ]
  }
 ],
 "metadata": {
  "kernelspec": {
   "display_name": "Python 3",
   "language": "python",
   "name": "python3"
  },
  "language_info": {
   "codemirror_mode": {
    "name": "ipython",
    "version": 3
   },
   "file_extension": ".py",
   "mimetype": "text/x-python",
   "name": "python",
   "nbconvert_exporter": "python",
   "pygments_lexer": "ipython3",
   "version": "3.8.8"
  }
 },
 "nbformat": 4,
 "nbformat_minor": 4
}
